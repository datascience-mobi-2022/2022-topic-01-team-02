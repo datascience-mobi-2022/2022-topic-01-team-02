{
 "cells": [
  {
   "cell_type": "code",
   "execution_count": 2,
   "metadata": {},
   "outputs": [
    {
     "data": {
      "text/plain": [
       "(60000, 785)"
      ]
     },
     "execution_count": 2,
     "metadata": {},
     "output_type": "execute_result"
    }
   ],
   "source": [
    "import sys\n",
    "import matplotlib.pyplot as plt\n",
    "import pandas as pd\n",
    "import numpy as np\n",
    "import Functions.PCA as pca\n",
    "import Functions.k_nearest as knn\n",
    "\n",
    "#load data\n",
    "train_digits = pd.read_csv(\"data/mnist_train.csv\", header = None)\n",
    "test_digits = pd.read_csv(\"data/mnist_test.csv\", header = None)\n",
    "#convert pandas Data Frame to Numpy Array\n",
    "train_array = train_digits.to_numpy()\n",
    "test_array = test_digits.to_numpy()\n",
    "# Datensatz hat 60000 Zeilen\n",
    "train_array.shape"
   ]
  },
  {
   "cell_type": "code",
   "execution_count": 12,
   "metadata": {},
   "outputs": [],
   "source": [
    "train_arr_cleaned_df = pd.read_csv(\"data/pca/cleaned_train_array.csv\", header = None)\n",
    "train_arr_cleaned = train_arr_cleaned_df.to_numpy()\n"
   ]
  },
  {
   "cell_type": "code",
   "execution_count": 13,
   "metadata": {},
   "outputs": [
    {
     "data": {
      "text/plain": [
       "(60000, 717)"
      ]
     },
     "execution_count": 13,
     "metadata": {},
     "output_type": "execute_result"
    }
   ],
   "source": [
    "train_arr_cleaned.shape"
   ]
  },
  {
   "cell_type": "code",
   "execution_count": 8,
   "metadata": {},
   "outputs": [],
   "source": [
    "z_array = pca.z_arr(train_arr_cleaned)\n",
    "\n",
    "df = pd.DataFrame(z_array)\n",
    "\n",
    "df.to_csv('data/pca/z_array.csv', index=None, header=None)"
   ]
  },
  {
   "cell_type": "code",
   "execution_count": null,
   "metadata": {},
   "outputs": [],
   "source": [
    "#show image \n",
    "def return_label(sample):\n",
    "    return train_array[sample-1, 0]\n",
    "\n",
    "def show_digit(sample):\n",
    "    img = train_array[sample-1, 1:]\n",
    "    img.shape = (28,28)\n",
    "    plt.imshow(img, 'gray')\n",
    "\n",
    "print(return_label(79))\n",
    "show_digit(79)"
   ]
  },
  {
   "cell_type": "code",
   "execution_count": null,
   "metadata": {},
   "outputs": [],
   "source": [
    "#compute average intensities of all rows describing the same number\n",
    "#imshow as output\n",
    "def avg_digit_img(dat, digit):\n",
    "\n",
    "    #create list with rowindex for given digit\n",
    "    list_digit = []\n",
    "    for i in range(0, dat.shape[0]):\n",
    "        if dat[i, 0] == digit:\n",
    "            list_digit.append(i)\n",
    "\n",
    "    #create np array filled with zeros in shape flat image\n",
    "    avg = np.zeros((1,784))\n",
    "    \n",
    "    #sum up intensities from all selected images for every pixel\n",
    "    for j in range(0, len(list_digit)):\n",
    "        avg += dat[list_digit[j], 1:]\n",
    "    #shape image\n",
    "    avg.shape = (28,28)\n",
    "    #divide by number of selected pictures for average intensity value\n",
    "    avg /= len(list_digit)\n",
    "\n",
    "    #show image and colorbar\n",
    "    plt.imshow(avg, 'gray')\n",
    "    plt.colorbar()\n"
   ]
  },
  {
   "cell_type": "code",
   "execution_count": null,
   "metadata": {},
   "outputs": [],
   "source": [
    "#compare sample image with averaged images pixel by pixel\n",
    "#select digit with lowest difference in intensity (output)\n",
    "def digit_recognition(sample):\n",
    "\n",
    "    intensities_list = [] #will be filled with average intensity differences for each digit \n",
    "    sample_img = test_array[sample-1, 1:] #create array with intensity values of sample\n",
    "\n",
    "    #subtract avg array from sample array and store as difference array (diff_arr)\n",
    "    for i in range(0,10):\n",
    "        diff_arr = sample_img - avg_digit_arr(train_array, i)\n",
    "        \n",
    "        #turn difference array to difference list\n",
    "        diff_list = []\n",
    "        for j in range(0, 784):\n",
    "            diff_list.append(diff_arr[0, j])\n",
    "\n",
    "        #sum all absolute values of difference list and assign to variable intensity_sum\n",
    "        intensity_sum = 0\n",
    "        for k in range(0, len(diff_list)):\n",
    "            diff_list[k] = diff_list[k]**2\n",
    "            diff_list[k] = np.sqrt(diff_list[k])\n",
    "            intensity_sum += diff_list[k]\n",
    "\n",
    "        #append intensities_list by intensity sum\n",
    "        #at the end of for loop, intensites_list contains 1 value for each of the 10 digits\n",
    "        intensities_list.append(intensity_sum)\n",
    "\n",
    "    #select smallest value and return as output\n",
    "    return intensities_list.index(min(intensities_list))"
   ]
  },
  {
   "cell_type": "code",
   "execution_count": null,
   "metadata": {},
   "outputs": [],
   "source": [
    "#Intensitätsdifferenzen zwischen n-tem Pixel von allen Bildern aufaddieren\n",
    "intensities_diff = np.zeros((1, 784))\n",
    "for i in range(0, 10000):\n",
    "    for j in range(0, 10000):\n",
    "        if i != j:\n",
    "            intensities_diff += np.sqrt((train_array[i, 1:785] - train_array[j, 1:785])**2)\n",
    "\n",
    "#array in liste\n",
    "intensities_diff_list = []\n",
    "for k in range(0, 784):\n",
    "    intensities_diff_list.append(intensities_diff[0, k])\n",
    "\n",
    "#anteile jedes pixels berechnen\n",
    "weighting_list = []\n",
    "for m in range(0,784):\n",
    "    weighting_list.append(intensities_diff_list[m]/sum(intensities_diff_list))\n"
   ]
  },
  {
   "cell_type": "code",
   "execution_count": null,
   "metadata": {},
   "outputs": [],
   "source": [
    "weight_train_array = np.zeros(train_array.shape)\n",
    "\n",
    "for i in range(0, train_array.shape[0]):\n",
    "    weight_train_array[i, 0] = train_array[i, 0]\n",
    "    weight_train_array[i, 1:] = train_array[i, 1:]*weighting_list\n",
    "\n",
    "print(train_array[0, :])\n",
    "print(weight_train_array[0, :])"
   ]
  },
  {
   "cell_type": "code",
   "execution_count": null,
   "metadata": {},
   "outputs": [],
   "source": [
    "\n",
    "def digit_recognition(sample):\n",
    "\n",
    "    intensities_list = [] #will be filled with average intensity differences for each digit \n",
    "    sample_img = test_array[sample-1, 1:] #create array with intensity values of sample\n",
    "\n",
    "    #subtract avg array from sample array and store as difference array (diff_arr)\n",
    "    for i in range(0,10):\n",
    "        diff_arr = sample_img - avg_digit_arr(train_array, i)\n",
    "        \n",
    "        #turn difference array to difference list\n",
    "        diff_list = []\n",
    "        for j in range(0, 784):\n",
    "            diff_list.append(diff_arr[0, j])\n",
    "\n",
    "        #weight intensities differences\n",
    "        diff_list_weight = np.multiply(diff_list, weighting_list)\n",
    "\n",
    "        #sum all absolute values of difference list and assign to variable intensity_sum\n",
    "        intensity_sum = 0\n",
    "        for k in range(0, len(diff_list_weight)):\n",
    "            diff_list_weight[k] = diff_list_weight[k]**2\n",
    "            diff_list_weight[k] = np.sqrt(diff_list_weight[k])\n",
    "            intensity_sum += diff_list_weight[k]\n",
    "\n",
    "        #append intensities_list by intensity sum\n",
    "        #at the end of for loop, intensites_list contains 1 value for each of the 10 digits\n",
    "        intensities_list.append(intensity_sum)\n",
    "\n",
    "    #select smallest value and return as output\n",
    "    return intensities_list.index(min(intensities_list))"
   ]
  },
  {
   "cell_type": "code",
   "execution_count": null,
   "metadata": {},
   "outputs": [],
   "source": [
    "#try out digit_recognition function\n",
    "print(digit_recognition(12))\n",
    "show_digit(12)\n",
    "print(test_array[11,0]) #note: here we use the index and not the number of the digit"
   ]
  },
  {
   "cell_type": "code",
   "execution_count": null,
   "metadata": {},
   "outputs": [],
   "source": [
    "#Überprüfung:\n",
    "avg_list = []\n",
    "for i in range(0,10):\n",
    "    avg_list.append(avg_digit_arr(train_array, i))\n",
    "\n",
    "def digit_recognition_fast(sample):\n",
    "    #die geht schneller weil nicht immer die durchschnitsarrays neu berechnet werden\n",
    "    intensities_list = [] \n",
    "    sample_img = test_array[sample-1, 1:] \n",
    "\n",
    "    for i in range(0,10):\n",
    "        diff_arr = sample_img - avg_list[i]\n",
    "        \n",
    "        diff_list = []\n",
    "        for j in range(0, 784):\n",
    "            diff_list.append(diff_arr[0, j])\n",
    "\n",
    "        #weight intensities differences\n",
    "        diff_list_weight = np.multiply(diff_list, weighting_list)\n",
    "\n",
    "        #sum all absolute values of difference list and assign to variable intensity_sum\n",
    "        intensity_sum = 0\n",
    "        for k in range(0, len(diff_list_weight)):\n",
    "            diff_list_weight[k] = diff_list_weight[k]**2\n",
    "            diff_list_weight[k] = np.sqrt(diff_list_weight[k])\n",
    "            intensity_sum += diff_list_weight[k]\n",
    "\n",
    "        #append intensities_list by intensity sum\n",
    "        #at the end of for loop, intensites_list contains 1 value for each of the 10 digits\n",
    "        intensities_list.append(intensity_sum)\n",
    "\n",
    "    #select smallest value and return as output\n",
    "    return intensities_list.index(min(intensities_list))\n",
    "\n",
    "\n",
    "true = 0\n",
    "false = 0\n",
    "\n",
    "for i in range(0, test_array.shape[0]):\n",
    "    if digit_recognition_fast(i+1) == test_array[i, 0]:\n",
    "        true += 1\n",
    "    else:\n",
    "        false += 1\n",
    "\n",
    "print(f'Anzahl richtig erkannter Digits: {true} \\n\\\n",
    "Anzahl falsch erkannter Digits: {false} \\n\\\n",
    "Richtig: {true/test_array.shape[0]*100} Prozent')\n",
    "#72,05 Prozent mit Durchschnittsdifferenz über die ersten 1000 Bilder\n",
    "#72,06 Prozent mit Durchschnittsdifferenz über die ersten 10000 Bilder"
   ]
  },
  {
   "cell_type": "code",
   "execution_count": null,
   "metadata": {},
   "outputs": [],
   "source": [
    "# Verwendung durch Abfrage mit train_array und k = 1\n",
    "def kNN(img, k=4, train = True):\n",
    "    counter = [0,0,0,0,0,0,0,0,0,0]\n",
    "    max_indices = []\n",
    "    dist = knn.distances(train_array, img)\n",
    "\n",
    "    if train == True:\n",
    "        k_smallest = sorted(range(len(dist)), key = lambda sub: dist[sub])[1:k+1]\n",
    "    \n",
    "    else:\n",
    "        k_smallest = sorted(range(len(dist)), key = lambda sub: dist[sub])[0:k]\n",
    "\n",
    "    \n",
    "    for i in range(0, k):\n",
    "        counter[train_array[k_smallest[i],0]] += 1\n",
    "\n",
    "    for j in range(0, 9):\n",
    "        if counter[j] == max(counter):\n",
    "            max_indices.append(j)\n",
    "\n",
    "    if len(max_indices) == 1:\n",
    "        return max_indices[0]\n",
    "\n",
    "    else:\n",
    "        if train == True:\n",
    "            k_smallest = sorted(range(len(dist)), key = lambda sub: dist[sub])[1]\n",
    "        else:\n",
    "            k_smallest = sorted(range(len(dist)), key = lambda sub: dist[sub])[0]\n",
    "        return train_array[k_smallest,0]\n",
    "        \n",
    "        for i in range(0, len(max_indices)):\n",
    "            if max_indices[i] == 9:\n",
    "                return max_indices[i]\n",
    "        \n",
    "        for i in range(0, len(max_indices)):\n",
    "            if max_indices[i] == 5:\n",
    "                for i in range(0, len(max_indices)):\n",
    "                    if max_indices[i] != 5:\n",
    "                        return max_indices[i]\n",
    "\n",
    "        if train == True:\n",
    "            k_smallest = sorted(range(len(dist)), key = lambda sub: dist[sub])[1]\n",
    "        else:\n",
    "            k_smallest = sorted(range(len(dist)), key = lambda sub: dist[sub])[0]\n",
    "        return train_array[k_smallest,0]"
   ]
  },
  {
   "cell_type": "code",
   "execution_count": null,
   "metadata": {},
   "outputs": [],
   "source": [
    "def kNN(ref_arr, PCs_arr, PCs_img, k, train = True):\n",
    "    \"\"\"\n",
    "    k nearest neighbours, returns the digit which had the smallest euclidean distances among k-neighbours\n",
    "    :param ref_arr: Reference array with labels in the 1st column\n",
    "    :param PCs_arr: Principle components of training data, without labels\n",
    "    :param PCs_img: Principle components of sample image\n",
    "    :k: number of nearest neighbours\n",
    "    :train: \"True\" if sample image comes from training data\n",
    "    \"\"\"\n",
    "\n",
    "   # Euclidian distance between sample image and all images in training array\n",
    "    arr_rows = PCs_arr.shape[0]\n",
    "    img_dot = (PCs_img**2).sum(axis=0)*np.ones(shape=(1,arr_rows))\n",
    "    arr_dot = (PCs_arr[:, :]**2).sum(axis=1)\n",
    "    dist_arr =  np.sqrt(img_dot + arr_dot - 2*np.dot(PCs_img, PCs_arr[:, :].T))\n",
    "    dist = dist_arr.tolist()[0]\n",
    "    \n",
    "    counter = [0,0,0,0,0,0,0,0,0,0]\n",
    "    max_indices = []\n",
    "    \n",
    "    # List with labels of k nearest neighbours \n",
    "    if train == True:\n",
    "        k_nearest = sorted(range(len(dist)), key = lambda sub: dist[sub])[1:k+1]\n",
    "    else:\n",
    "        k_nearest = sorted(range(len(dist)), key = lambda sub: dist[sub])[0:k]\n",
    "\n",
    "    # Which label occurs how often?\n",
    "    for i in range(0, k):\n",
    "        counter[ref_arr[k_nearest[i],0]] += 1\n",
    "    for j in range(0, 9):\n",
    "        if counter[j] == max(counter):\n",
    "            max_indices.append(j)\n",
    "            \n",
    "    # Return the most featured label\n",
    "    if len(max_indices) == 1:\n",
    "        return max_indices[0]\n",
    "        \n",
    "    # Return the nearest neighbour, in case there are several labels occuring equally often\n",
    "    else:\n",
    "        if train == True:\n",
    "            nearest = sorted(range(len(dist)), key = lambda sub: dist[sub])[1]\n",
    "        else:\n",
    "            nearest = sorted(range(len(dist)), key = lambda sub: dist[sub])[0]\n",
    "        return ref_arr[nearest,0]"
   ]
  },
  {
   "cell_type": "code",
   "execution_count": null,
   "metadata": {},
   "outputs": [],
   "source": [
    "z_array, z_image = pca.z_transformation(train_array[:, 1:], test_array[3, 1:])"
   ]
  },
  {
   "cell_type": "code",
   "execution_count": null,
   "metadata": {},
   "outputs": [],
   "source": [
    "eigenvectors_sorted = pca.create_sorted_eigenvec(z_array, num_components=30)"
   ]
  },
  {
   "cell_type": "code",
   "execution_count": null,
   "metadata": {},
   "outputs": [],
   "source": [
    "pca_arr = pca.set_only(z_array, eigenvectors_sorted)"
   ]
  },
  {
   "cell_type": "code",
   "execution_count": null,
   "metadata": {},
   "outputs": [],
   "source": [
    "kNN(pca_arr, pca_img, k =6, train=False)"
   ]
  },
  {
   "cell_type": "code",
   "execution_count": 9,
   "metadata": {},
   "outputs": [],
   "source": [
    "z_arr_df = pd.read_csv(\"data/pca/z_array.csv\", header=None)\n",
    "z_arr = z_arr_df.to_numpy()"
   ]
  },
  {
   "cell_type": "code",
   "execution_count": 10,
   "metadata": {},
   "outputs": [
    {
     "data": {
      "text/plain": [
       "(59999, 717)"
      ]
     },
     "execution_count": 10,
     "metadata": {},
     "output_type": "execute_result"
    }
   ],
   "source": [
    "z_arr.shape"
   ]
  },
  {
   "cell_type": "code",
   "execution_count": null,
   "metadata": {},
   "outputs": [],
   "source": [
    "def validation_kNN_train(s_size, k=5):\n",
    "    true = 0\n",
    "    false = 0\n",
    "    \n",
    "    \n",
    "    for i in range(0, s_size):\n",
    "\n",
    "        z_image = z_arr[i-1, :]\n",
    "        pca_img = pca.image_only(z_image, eigenvectors_sorted)\n",
    "\n",
    "\n",
    "        result_kNN = knn.kNN(train_array, pca_arr, pca_img, k = 5, train=True)\n",
    "        if result_kNN == train_array[i, 0]:\n",
    "            true += 1\n",
    "        else:\n",
    "            false += 1\n",
    "\n",
    "    return print(f'Anzahl richtig erkannter Digits: {true}\\n\\\n",
    "Anzahl falsch erkannter Digits: {false}\\n\\\n",
    "\\nAnteil richtiger Vorhersagen: {(true/s_size)*100}%')\n"
   ]
  },
  {
   "cell_type": "code",
   "execution_count": null,
   "metadata": {},
   "outputs": [],
   "source": [
    "pca_arr.shape"
   ]
  },
  {
   "cell_type": "code",
   "execution_count": null,
   "metadata": {},
   "outputs": [],
   "source": [
    "validation_kNN_train(30)"
   ]
  },
  {
   "cell_type": "code",
   "execution_count": null,
   "metadata": {},
   "outputs": [],
   "source": [
    "def validation_kNN_test(s_size, k=5):\n",
    "    true = 0\n",
    "    false = 0\n",
    "    pca_arr = PCA_set\n",
    "    for i in range(0, s_size):\n",
    "\n",
    "        z_image = pca.z_img(test_array[i, 1:])\n",
    "        pca_img = pca.image_only(z_image, eigenvectors_sorted)\n",
    "\n",
    "\n",
    "        result_kNN = kNN(train_array, pca_arr, pca_img, k = 5, train=False)\n",
    "        if result_kNN == test_array[i, 0]:\n",
    "            true += 1\n",
    "        else:\n",
    "            false += 1\n",
    "\n",
    "    return print(f'Anzahl richtig erkannter Digits: {true}\\n\\\n",
    "Anzahl falsch erkannter Digits: {false}\\n\\\n",
    "\\nAnteil richtiger Vorhersagen: {(true/s_size)*100}%')"
   ]
  },
  {
   "cell_type": "code",
   "execution_count": null,
   "metadata": {},
   "outputs": [],
   "source": [
    "validation_kNN_test(150)"
   ]
  },
  {
   "cell_type": "code",
   "execution_count": null,
   "metadata": {},
   "outputs": [],
   "source": [
    "for i in range(0, 150):\n",
    "    z_image = pca.z_img(test_array[i, 1:])"
   ]
  },
  {
   "cell_type": "code",
   "execution_count": null,
   "metadata": {},
   "outputs": [],
   "source": [
    "def kNN(PCs_arr, PCs_img, k, train = True):\n",
    "   \n",
    "   #Distance calculation\n",
    "    arr_rows = PCs_arr.shape[0]\n",
    "    img_dot = (PCs_img**2).sum(axis=0)*np.ones(shape=(1,arr_rows))\n",
    "    arr_dot = (PCs_arr[:, :]**2).sum(axis=1)\n",
    "    dist_arr =  np.sqrt(img_dot + arr_dot - 2*np.dot(PCs_img, PCs_arr[:, :].T))\n",
    "    dist = dist_arr.tolist()[0]\n",
    "    \n",
    "    #Sorting\n",
    "    counter = [0,0,0,0,0,0,0,0,0,0]\n",
    "    max_indices = []\n",
    "    \n",
    "    if train == True:\n",
    "        k_smallest = sorted(range(len(dist)), key = lambda sub: dist[sub])[1:k+1]\n",
    "    \n",
    "    else:\n",
    "        k_smallest = sorted(range(len(dist)), key = lambda sub: dist[sub])[0:k]\n",
    "\n",
    "    \n",
    "    for i in range(0, k):\n",
    "        counter[train_array[k_smallest[i],0]] += 1\n",
    "\n",
    "    for j in range(0, 9):\n",
    "        if counter[j] == max(counter):\n",
    "            max_indices.append(j)\n",
    "            \n",
    "\n",
    "    if len(max_indices) == 1:\n",
    "        return max_indices[0]\n",
    "\n",
    "    else:\n",
    "        if train == True:\n",
    "            k_smallest = sorted(range(len(dist)), key = lambda sub: dist[sub])[1]\n",
    "        else:\n",
    "            k_smallest = sorted(range(len(dist)), key = lambda sub: dist[sub])[0]\n",
    "        return train_array[k_smallest,0]"
   ]
  },
  {
   "cell_type": "code",
   "execution_count": 5,
   "metadata": {},
   "outputs": [],
   "source": [
    "def std_zero(set):\n",
    "    \"\"\"\n",
    "    returns list with pixel-indices for pixels which have standard deviation zero\n",
    "    \n",
    "    :param set: training dataset, no labels\n",
    "    \"\"\"\n",
    "\n",
    "    std0 = []\n",
    "    for i in range(0, set.shape[1]):\n",
    "        if np.std(set[:, i]) == 0:\n",
    "            std0.append(i)\n",
    "    return std0"
   ]
  },
  {
   "cell_type": "code",
   "execution_count": 11,
   "metadata": {},
   "outputs": [],
   "source": [
    "std0 = std_zero(train_array[:, 1:])\n",
    "cleaned_train_array = np.delete(train_array[:, 1:], std0, 1)\n",
    "\n",
    "df = pd.DataFrame(cleaned_train_array)\n",
    "\n",
    "df.to_csv('data/pca/cleaned_train_array.csv', index=False, header=False)"
   ]
  },
  {
   "cell_type": "code",
   "execution_count": null,
   "metadata": {},
   "outputs": [],
   "source": [
    "df = pd.DataFrame(std0)\n",
    "\n",
    "df.to_csv('data/pca/std0.csv', index=False)"
   ]
  },
  {
   "cell_type": "code",
   "execution_count": null,
   "metadata": {},
   "outputs": [],
   "source": [
    "#Idee zur weiteren Verbesserung: Schauen welche Zahlen am häufigsten fälschlicherweise vorhergesagt werden. Vergleich mit Durchschnittszahl. Gewichtung verschiedener Faktoren.\n",
    "\n",
    "#Validation mit Trainingsdatensatz und k=1 bei mehreren Maxima (Zeile 29500 - 30500)\n",
    "#k=1 -> 97,3%\n",
    "#k=2 -> 97,3%\n",
    "#k=3 -> 97,6%\n",
    "#k=4 -> 97,6%\n",
    "#k=5 -> 97,4%\n",
    "#k=6 -> 97,2%\n",
    "validation_kNN_train(1000, k = 4)\n",
    "#97,4% mit -> if 9 elif 1 elif 2 -> kNN = 1\n",
    "#97,7% mit -> if 9 elif 1 elif 2 -> kNN = 1 + Pixel-Gewichtung\n",
    "#97,6% mit -> if 9 elif 5 -> kNN = 1 + Pixel-Gewichtung\n",
    "#97,4% mit -> if 9 -> kNN = 1 + Pixel-Gewichtung\n",
    "#97,4% mit -> kNN = 1 + Pixel-Gewichtung\n",
    "#97,5% mit -> kNN = 1\n"
   ]
  },
  {
   "cell_type": "code",
   "execution_count": null,
   "metadata": {},
   "outputs": [],
   "source": [
    "#welche Zahlen wie oft nicht erkannt werden bei Train mit Pixelgewichtung, mit k=1 bei mehreren Maxima (Zeile 29500 - 30500)\n",
    "# -> [2, 1, 1, 5, 1, 2, 0, 4, 1, 6]\n",
    "counter = [0,0,0,0,0,0,0,0,0,0]\n",
    "for i in range(0, len(false_ind)):\n",
    "    j = false_ind[i]\n",
    "    counter[j] += 1\n",
    "print(counter)\n",
    "\n",
    "#welche Zahlen wie oft fälschlicherweise berechnet werden bei Train mit Pixelgewichtung, mit k=1 bei mehreren Maxima (Zeile 29500 - 30500)\n",
    "# -> [1, 3, 3, 2, 3, 6, 2, 2, 1, 0]\n",
    "counter = [0,0,0,0,0,0,0,0,0,0]\n",
    "for i in range(0, len(false_pred)):\n",
    "    j = false_pred[i]\n",
    "    counter[j] += 1\n",
    "print(counter)\n",
    "\n",
    "#interessant sind hier vor allem die Zahlen bei denen es starke Abweichungen gibt. Also besonders 5 und 9. -> if 9 elif 5 -> kNN = 1"
   ]
  },
  {
   "cell_type": "markdown",
   "metadata": {},
   "source": [
    "x = np.array([[1,2,3],[3,2,5],[9,0,2]])\n",
    "print(x)\n",
    "min1 = np.argwhere(x == np.min(x[:,0]))\n",
    "min2 = min1[0]\n",
    "min2"
   ]
  }
 ],
 "metadata": {
  "interpreter": {
   "hash": "541128196ab36f0af3e9e280f838c1b088f9a4d7f344cac0adf931df1b356af5"
  },
  "kernelspec": {
   "display_name": "Python 3.9.12 ('digit_recognitoin_env')",
   "language": "python",
   "name": "python3"
  },
  "language_info": {
   "codemirror_mode": {
    "name": "ipython",
    "version": 3
   },
   "file_extension": ".py",
   "mimetype": "text/x-python",
   "name": "python",
   "nbconvert_exporter": "python",
   "pygments_lexer": "ipython3",
   "version": "3.9.12"
  },
  "orig_nbformat": 4
 },
 "nbformat": 4,
 "nbformat_minor": 2
}
