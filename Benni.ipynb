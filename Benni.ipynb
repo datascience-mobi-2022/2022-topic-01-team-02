{
 "cells": [
  {
   "cell_type": "code",
   "execution_count": 1,
   "metadata": {},
   "outputs": [
    {
     "data": {
      "text/plain": [
       "(59999, 785)"
      ]
     },
     "execution_count": 1,
     "metadata": {},
     "output_type": "execute_result"
    }
   ],
   "source": [
    "import sys\n",
    "import matplotlib.pyplot as plt\n",
    "import pandas as pd\n",
    "import numpy as np\n",
    "from Functions import kNN as kNN\n",
    "#load data\n",
    "train_digits = pd.read_csv(\"data/mnist_train.csv\")\n",
    "test_digits = pd.read_csv(\"data/mnist_test.csv\")\n",
    "#convert pandas Data Frame to Numpy Array\n",
    "train_array = train_digits.to_numpy()\n",
    "test_array = test_digits.to_numpy()\n",
    "# Datensatz hat 59999 Zeilen\n",
    "train_array.shape"
   ]
  },
  {
   "cell_type": "code",
   "execution_count": 48,
   "metadata": {},
   "outputs": [
    {
     "name": "stdout",
     "output_type": "stream",
     "text": [
      "7\n"
     ]
    },
    {
     "data": {
      "image/png": "[encoded data removed]",
      "text/plain": [
       "<Figure size 432x288 with 1 Axes>"
      ]
     },
     "metadata": {
      "needs_background": "light"
     },
     "output_type": "display_data"
    }
   ],
   "source": [
    "#show image \n",
    "def return_label(sample):\n",
    "    return train_array[sample-1, 0]\n",
    "\n",
    "def show_digit(sample):\n",
    "    img = train_array[sample-1, 1:]\n",
    "    img.shape = (28,28)\n",
    "    plt.imshow(img, 'gray')\n",
    "\n",
    "print(return_label(79))\n",
    "show_digit(79)"
   ]
  },
  {
   "cell_type": "code",
   "execution_count": null,
   "metadata": {},
   "outputs": [],
   "source": [
    "#compute average intensities of all rows describing the same number\n",
    "#imshow as output\n",
    "def avg_digit_img(dat, digit):\n",
    "\n",
    "    #create list with rowindex for given digit\n",
    "    list_digit = []\n",
    "    for i in range(0, dat.shape[0]):\n",
    "        if dat[i, 0] == digit:\n",
    "            list_digit.append(i)\n",
    "\n",
    "    #create np array filled with zeros in shape flat image\n",
    "    avg = np.zeros((1,784))\n",
    "    \n",
    "    #sum up intensities from all selected images for every pixel\n",
    "    for j in range(0, len(list_digit)):\n",
    "        avg += dat[list_digit[j], 1:]\n",
    "    #shape image\n",
    "    avg.shape = (28,28)\n",
    "    #divide by number of selected pictures for average intensity value\n",
    "    avg /= len(list_digit)\n",
    "\n",
    "    #show image and colorbar\n",
    "    plt.imshow(avg, 'gray')\n",
    "    plt.colorbar()\n"
   ]
  },
  {
   "cell_type": "code",
   "execution_count": null,
   "metadata": {},
   "outputs": [],
   "source": [
    "#compare sample image with averaged images pixel by pixel\n",
    "#select digit with lowest difference in intensity (output)\n",
    "def digit_recognition(sample):\n",
    "\n",
    "    intensities_list = [] #will be filled with average intensity differences for each digit \n",
    "    sample_img = test_array[sample-1, 1:] #create array with intensity values of sample\n",
    "\n",
    "    #subtract avg array from sample array and store as difference array (diff_arr)\n",
    "    for i in range(0,10):\n",
    "        diff_arr = sample_img - avg_digit_arr(train_array, i)\n",
    "        \n",
    "        #turn difference array to difference list\n",
    "        diff_list = []\n",
    "        for j in range(0, 784):\n",
    "            diff_list.append(diff_arr[0, j])\n",
    "\n",
    "        #sum all absolute values of difference list and assign to variable intensity_sum\n",
    "        intensity_sum = 0\n",
    "        for k in range(0, len(diff_list)):\n",
    "            diff_list[k] = diff_list[k]**2\n",
    "            diff_list[k] = np.sqrt(diff_list[k])\n",
    "            intensity_sum += diff_list[k]\n",
    "\n",
    "        #append intensities_list by intensity sum\n",
    "        #at the end of for loop, intensites_list contains 1 value for each of the 10 digits\n",
    "        intensities_list.append(intensity_sum)\n",
    "\n",
    "    #select smallest value and return as output\n",
    "    return intensities_list.index(min(intensities_list))"
   ]
  },
  {
   "cell_type": "code",
   "execution_count": 70,
   "metadata": {},
   "outputs": [],
   "source": [
    "#Intensitätsdifferenzen zwischen n-tem Pixel von allen Bildern aufaddieren\n",
    "intensities_diff = np.zeros((1, 784))\n",
    "for i in range(0, 10000):\n",
    "    for j in range(0, 10000):\n",
    "        if i != j:\n",
    "            intensities_diff += np.sqrt((train_array[i, 1:785] - train_array[j, 1:785])**2)\n",
    "\n",
    "#array in liste\n",
    "intensities_diff_list = []\n",
    "for k in range(0, 784):\n",
    "    intensities_diff_list.append(intensities_diff[0, k])\n",
    "\n",
    "#anteile jedes pixels berechnen\n",
    "weighting_list = []\n",
    "for m in range(0,784):\n",
    "    weighting_list.append(intensities_diff_list[m]/sum(intensities_diff_list))\n"
   ]
  },
  {
   "cell_type": "code",
   "execution_count": 114,
   "metadata": {},
   "outputs": [
    {
     "name": "stdout",
     "output_type": "stream",
     "text": [
      "[  0   0   0   0   0   0   0   0   0   0   0   0   0   0   0   0   0   0\n",
      "   0   0   0   0   0   0   0   0   0   0   0   0   0   0   0   0   0   0\n",
      "   0   0   0   0   0   0   0   0   0   0   0   0   0   0   0   0   0   0\n",
      "   0   0   0   0   0   0   0   0   0   0   0   0   0   0   0   0   0   0\n",
      "   0   0   0   0   0   0   0   0   0   0   0   0   0   0   0   0   0   0\n",
      "   0   0   0   0   0   0   0   0   0   0   0   0   0   0   0   0   0   0\n",
      "   0   0   0   0   0   0   0   0   0   0   0   0   0   0   0   0   0   0\n",
      "   0   0  51 159 253 159  50   0   0   0   0   0   0   0   0   0   0   0\n",
      "   0   0   0   0   0   0   0   0   0   0   0  48 238 252 252 252 237   0\n",
      "   0   0   0   0   0   0   0   0   0   0   0   0   0   0   0   0   0   0\n",
      "   0   0  54 227 253 252 239 233 252  57   6   0   0   0   0   0   0   0\n",
      "   0   0   0   0   0   0   0   0   0   0  10  60 224 252 253 252 202  84\n",
      " 252 253 122   0   0   0   0   0   0   0   0   0   0   0   0   0   0   0\n",
      "   0   0 163 252 252 252 253 252 252  96 189 253 167   0   0   0   0   0\n",
      "   0   0   0   0   0   0   0   0   0   0   0  51 238 253 253 190 114 253\n",
      " 228  47  79 255 168   0   0   0   0   0   0   0   0   0   0   0   0   0\n",
      "   0   0  48 238 252 252 179  12  75 121  21   0   0 253 243  50   0   0\n",
      "   0   0   0   0   0   0   0   0   0   0   0  38 165 253 233 208  84   0\n",
      "   0   0   0   0   0 253 252 165   0   0   0   0   0   0   0   0   0   0\n",
      "   0   0   7 178 252 240  71  19  28   0   0   0   0   0   0 253 252 195\n",
      "   0   0   0   0   0   0   0   0   0   0   0   0  57 252 252  63   0   0\n",
      "   0   0   0   0   0   0   0 253 252 195   0   0   0   0   0   0   0   0\n",
      "   0   0   0   0 198 253 190   0   0   0   0   0   0   0   0   0   0 255\n",
      " 253 196   0   0   0   0   0   0   0   0   0   0   0  76 246 252 112   0\n",
      "   0   0   0   0   0   0   0   0   0 253 252 148   0   0   0   0   0   0\n",
      "   0   0   0   0   0  85 252 230  25   0   0   0   0   0   0   0   0   7\n",
      " 135 253 186  12   0   0   0   0   0   0   0   0   0   0   0  85 252 223\n",
      "   0   0   0   0   0   0   0   0   7 131 252 225  71   0   0   0   0   0\n",
      "   0   0   0   0   0   0   0  85 252 145   0   0   0   0   0   0   0  48\n",
      " 165 252 173   0   0   0   0   0   0   0   0   0   0   0   0   0   0  86\n",
      " 253 225   0   0   0   0   0   0 114 238 253 162   0   0   0   0   0   0\n",
      "   0   0   0   0   0   0   0   0   0  85 252 249 146  48  29  85 178 225\n",
      " 253 223 167  56   0   0   0   0   0   0   0   0   0   0   0   0   0   0\n",
      "   0  85 252 252 252 229 215 252 252 252 196 130   0   0   0   0   0   0\n",
      "   0   0   0   0   0   0   0   0   0   0   0  28 199 252 252 253 252 252\n",
      " 233 145   0   0   0   0   0   0   0   0   0   0   0   0   0   0   0   0\n",
      "   0   0   0   0  25 128 252 253 252 141  37   0   0   0   0   0   0   0\n",
      "   0   0   0   0   0   0   0   0   0   0   0   0   0   0   0   0   0   0\n",
      "   0   0   0   0   0   0   0   0   0   0   0   0   0   0   0   0   0   0\n",
      "   0   0   0   0   0   0   0   0   0   0   0   0   0   0   0   0   0   0\n",
      "   0   0   0   0   0   0   0   0   0   0   0   0   0   0   0   0   0   0\n",
      "   0   0   0   0   0   0   0   0   0   0   0   0   0   0   0   0   0   0\n",
      "   0   0   0   0   0   0   0   0   0   0   0   0   0   0   0   0   0   0\n",
      "   0   0   0   0   0   0   0   0   0   0   0]\n",
      "[0.         0.         0.         0.         0.         0.\n",
      " 0.         0.         0.         0.         0.         0.\n",
      " 0.         0.         0.         0.         0.         0.\n",
      " 0.         0.         0.         0.         0.         0.\n",
      " 0.         0.         0.         0.         0.         0.\n",
      " 0.         0.         0.         0.         0.         0.\n",
      " 0.         0.         0.         0.         0.         0.\n",
      " 0.         0.         0.         0.         0.         0.\n",
      " 0.         0.         0.         0.         0.         0.\n",
      " 0.         0.         0.         0.         0.         0.\n",
      " 0.         0.         0.         0.         0.         0.\n",
      " 0.         0.         0.         0.         0.         0.\n",
      " 0.         0.         0.         0.         0.         0.\n",
      " 0.         0.         0.         0.         0.         0.\n",
      " 0.         0.         0.         0.         0.         0.\n",
      " 0.         0.         0.         0.         0.         0.\n",
      " 0.         0.         0.         0.         0.         0.\n",
      " 0.         0.         0.         0.         0.         0.\n",
      " 0.         0.         0.         0.         0.         0.\n",
      " 0.         0.         0.         0.         0.         0.\n",
      " 0.         0.         0.         0.         0.         0.\n",
      " 0.         0.         0.11416059 0.35882197 0.52767727 0.28041646\n",
      " 0.06615868 0.         0.         0.         0.         0.\n",
      " 0.         0.         0.         0.         0.         0.\n",
      " 0.         0.         0.         0.         0.         0.\n",
      " 0.         0.         0.         0.         0.         0.15791515\n",
      " 0.81036897 0.85918737 0.82558865 0.74263472 0.57423711 0.\n",
      " 0.         0.         0.         0.         0.         0.\n",
      " 0.         0.         0.         0.         0.         0.\n",
      " 0.         0.         0.         0.         0.         0.\n",
      " 0.         0.         0.19194906 0.82914683 0.93141195 0.92485091\n",
      " 0.87013345 0.81414211 0.78853989 0.14177427 0.01079365 0.\n",
      " 0.         0.         0.         0.         0.         0.\n",
      " 0.         0.         0.         0.         0.         0.\n",
      " 0.         0.         0.         0.         0.03364067 0.21341672\n",
      " 0.81200452 0.91385866 0.91545358 0.91456726 0.73577474 0.30372355\n",
      " 0.86945008 0.75791391 0.28094147 0.         0.         0.\n",
      " 0.         0.         0.         0.         0.         0.\n",
      " 0.         0.         0.         0.         0.         0.\n",
      " 0.         0.         0.58125833 0.91719471 0.92100181 0.92110483\n",
      " 0.91997747 0.91686859 0.92053216 0.3503858  0.67119264 0.81654006\n",
      " 0.43045968 0.         0.         0.         0.         0.\n",
      " 0.         0.         0.         0.         0.         0.\n",
      " 0.         0.         0.         0.         0.         0.17776133\n",
      " 0.85996178 0.9171001  0.90275052 0.66636507 0.39608144 0.89558809\n",
      " 0.82422612 0.17039167 0.28011075 0.82641465 0.43462704 0.\n",
      " 0.         0.         0.         0.         0.         0.\n",
      " 0.         0.         0.         0.         0.         0.\n",
      " 0.         0.         0.15472185 0.83728584 0.8984832  0.86744768\n",
      " 0.58337204 0.0381638  0.24494949 0.41406655 0.07477434 0.\n",
      " 0.         0.78877516 0.58445324 0.07738702 0.         0.\n",
      " 0.         0.         0.         0.         0.         0.\n",
      " 0.         0.         0.         0.         0.         0.10470967\n",
      " 0.54619921 0.88912894 0.80821182 0.67348423 0.25670551 0.\n",
      " 0.         0.         0.         0.         0.         0.73717109\n",
      " 0.53879366 0.22522046 0.         0.         0.         0.\n",
      " 0.         0.         0.         0.         0.         0.\n",
      " 0.         0.         0.01469294 0.51694001 0.8532908  0.84247167\n",
      " 0.24319552 0.06088813 0.08808909 0.         0.         0.\n",
      " 0.         0.         0.         0.68967489 0.49485162 0.25100683\n",
      " 0.         0.         0.         0.         0.         0.\n",
      " 0.         0.         0.         0.         0.         0.\n",
      " 0.13000301 0.76065082 0.86225595 0.22125459 0.         0.\n",
      " 0.         0.         0.         0.         0.         0.\n",
      " 0.         0.66404791 0.48606787 0.25465826 0.         0.\n",
      " 0.         0.         0.         0.         0.         0.\n",
      " 0.         0.         0.         0.         0.47651189 0.7784253\n",
      " 0.64781243 0.         0.         0.         0.         0.\n",
      " 0.         0.         0.         0.         0.         0.67276109\n",
      " 0.50186124 0.26522606 0.         0.         0.         0.\n",
      " 0.         0.         0.         0.         0.         0.\n",
      " 0.         0.12574922 0.60130604 0.76726627 0.37587352 0.\n",
      " 0.         0.         0.         0.         0.         0.\n",
      " 0.         0.         0.         0.67555472 0.51103827 0.20535038\n",
      " 0.         0.         0.         0.         0.         0.\n",
      " 0.         0.         0.         0.         0.         0.14829932\n",
      " 0.61440388 0.67564826 0.08011407 0.         0.         0.\n",
      " 0.         0.         0.         0.         0.         0.02431125\n",
      " 0.42812524 0.68298644 0.37961322 0.01631352 0.         0.\n",
      " 0.         0.         0.         0.         0.         0.\n",
      " 0.         0.         0.         0.15164397 0.60379556 0.62366173\n",
      " 0.         0.         0.         0.         0.         0.\n",
      " 0.         0.         0.02496452 0.4489727  0.79477856 0.60151036\n",
      " 0.14195435 0.         0.         0.         0.         0.\n",
      " 0.         0.         0.         0.         0.         0.\n",
      " 0.         0.15939239 0.60658211 0.3916802  0.         0.\n",
      " 0.         0.         0.         0.         0.         0.17303794\n",
      " 0.58905942 0.86928881 0.54151984 0.         0.         0.\n",
      " 0.         0.         0.         0.         0.         0.\n",
      " 0.         0.         0.         0.         0.         0.17291384\n",
      " 0.63779665 0.63328914 0.         0.         0.         0.\n",
      " 0.         0.         0.41448896 0.86097457 0.90790789 0.55402091\n",
      " 0.         0.         0.         0.         0.         0.\n",
      " 0.         0.         0.         0.         0.         0.\n",
      " 0.         0.         0.         0.173018   0.6613801  0.74660128\n",
      " 0.47408582 0.16356035 0.10168781 0.30557608 0.64994561 0.82225559\n",
      " 0.9249454  0.81111254 0.59149027 0.18173311 0.         0.\n",
      " 0.         0.         0.         0.         0.         0.\n",
      " 0.         0.         0.         0.         0.         0.\n",
      " 0.         0.15672245 0.6461687  0.77045276 0.85471661 0.81634985\n",
      " 0.77862211 0.91968997 0.91572127 0.91851569 0.71608444 0.46278291\n",
      " 0.         0.         0.         0.         0.         0.\n",
      " 0.         0.         0.         0.         0.         0.\n",
      " 0.         0.         0.         0.         0.         0.03661374\n",
      " 0.41866508 0.70623937 0.82903913 0.90265708 0.92272722 0.92378273\n",
      " 0.85394509 0.52989523 0.         0.         0.         0.\n",
      " 0.         0.         0.         0.         0.         0.\n",
      " 0.         0.         0.         0.         0.         0.\n",
      " 0.         0.         0.         0.         0.03167892 0.26007691\n",
      " 0.68422177 0.80836034 0.86787383 0.49442199 0.128263   0.\n",
      " 0.         0.         0.         0.         0.         0.\n",
      " 0.         0.         0.         0.         0.         0.\n",
      " 0.         0.         0.         0.         0.         0.\n",
      " 0.         0.         0.         0.         0.         0.\n",
      " 0.         0.         0.         0.         0.         0.\n",
      " 0.         0.         0.         0.         0.         0.\n",
      " 0.         0.         0.         0.         0.         0.\n",
      " 0.         0.         0.         0.         0.         0.\n",
      " 0.         0.         0.         0.         0.         0.\n",
      " 0.         0.         0.         0.         0.         0.\n",
      " 0.         0.         0.         0.         0.         0.\n",
      " 0.         0.         0.         0.         0.         0.\n",
      " 0.         0.         0.         0.         0.         0.\n",
      " 0.         0.         0.         0.         0.         0.\n",
      " 0.         0.         0.         0.         0.         0.\n",
      " 0.         0.         0.         0.         0.         0.\n",
      " 0.         0.         0.         0.         0.         0.\n",
      " 0.         0.         0.         0.         0.         0.\n",
      " 0.         0.         0.         0.         0.         0.\n",
      " 0.         0.         0.         0.         0.         0.\n",
      " 0.         0.         0.         0.         0.        ]\n"
     ]
    }
   ],
   "source": [
    "weight_train_array = np.zeros(train_array.shape)\n",
    "\n",
    "for i in range(0, train_array.shape[0]):\n",
    "    weight_train_array[i, 0] = train_array[i, 0]\n",
    "    weight_train_array[i, 1:] = train_array[i, 1:]*weighting_list\n",
    "\n",
    "print(train_array[0, :])\n",
    "print(weight_train_array[0, :])"
   ]
  },
  {
   "cell_type": "code",
   "execution_count": null,
   "metadata": {},
   "outputs": [],
   "source": [
    "\n",
    "def digit_recognition(sample):\n",
    "\n",
    "    intensities_list = [] #will be filled with average intensity differences for each digit \n",
    "    sample_img = test_array[sample-1, 1:] #create array with intensity values of sample\n",
    "\n",
    "    #subtract avg array from sample array and store as difference array (diff_arr)\n",
    "    for i in range(0,10):\n",
    "        diff_arr = sample_img - avg_digit_arr(train_array, i)\n",
    "        \n",
    "        #turn difference array to difference list\n",
    "        diff_list = []\n",
    "        for j in range(0, 784):\n",
    "            diff_list.append(diff_arr[0, j])\n",
    "\n",
    "        #weight intensities differences\n",
    "        diff_list_weight = np.multiply(diff_list, weighting_list)\n",
    "\n",
    "        #sum all absolute values of difference list and assign to variable intensity_sum\n",
    "        intensity_sum = 0\n",
    "        for k in range(0, len(diff_list_weight)):\n",
    "            diff_list_weight[k] = diff_list_weight[k]**2\n",
    "            diff_list_weight[k] = np.sqrt(diff_list_weight[k])\n",
    "            intensity_sum += diff_list_weight[k]\n",
    "\n",
    "        #append intensities_list by intensity sum\n",
    "        #at the end of for loop, intensites_list contains 1 value for each of the 10 digits\n",
    "        intensities_list.append(intensity_sum)\n",
    "\n",
    "    #select smallest value and return as output\n",
    "    return intensities_list.index(min(intensities_list))"
   ]
  },
  {
   "cell_type": "code",
   "execution_count": null,
   "metadata": {},
   "outputs": [],
   "source": [
    "#try out digit_recognition function\n",
    "print(digit_recognition(12))\n",
    "show_digit(12)\n",
    "print(test_array[11,0]) #note: here we use the index and not the number of the digit"
   ]
  },
  {
   "cell_type": "code",
   "execution_count": null,
   "metadata": {},
   "outputs": [],
   "source": [
    "#Überprüfung:\n",
    "avg_list = []\n",
    "for i in range(0,10):\n",
    "    avg_list.append(avg_digit_arr(train_array, i))\n",
    "\n",
    "def digit_recognition_fast(sample):\n",
    "    #die geht schneller weil nicht immer die durchschnitsarrays neu berechnet werden\n",
    "    intensities_list = [] \n",
    "    sample_img = test_array[sample-1, 1:] \n",
    "\n",
    "    for i in range(0,10):\n",
    "        diff_arr = sample_img - avg_list[i]\n",
    "        \n",
    "        diff_list = []\n",
    "        for j in range(0, 784):\n",
    "            diff_list.append(diff_arr[0, j])\n",
    "\n",
    "        #weight intensities differences\n",
    "        diff_list_weight = np.multiply(diff_list, weighting_list)\n",
    "\n",
    "        #sum all absolute values of difference list and assign to variable intensity_sum\n",
    "        intensity_sum = 0\n",
    "        for k in range(0, len(diff_list_weight)):\n",
    "            diff_list_weight[k] = diff_list_weight[k]**2\n",
    "            diff_list_weight[k] = np.sqrt(diff_list_weight[k])\n",
    "            intensity_sum += diff_list_weight[k]\n",
    "\n",
    "        #append intensities_list by intensity sum\n",
    "        #at the end of for loop, intensites_list contains 1 value for each of the 10 digits\n",
    "        intensities_list.append(intensity_sum)\n",
    "\n",
    "    #select smallest value and return as output\n",
    "    return intensities_list.index(min(intensities_list))\n",
    "\n",
    "\n",
    "true = 0\n",
    "false = 0\n",
    "\n",
    "for i in range(0, test_array.shape[0]):\n",
    "    if digit_recognition_fast(i+1) == test_array[i, 0]:\n",
    "        true += 1\n",
    "    else:\n",
    "        false += 1\n",
    "\n",
    "print(f'Anzahl richtig erkannter Digits: {true} \\n\\\n",
    "Anzahl falsch erkannter Digits: {false} \\n\\\n",
    "Richtig: {true/test_array.shape[0]*100} Prozent')\n",
    "#72,05 Prozent mit Durchschnittsdifferenz über die ersten 1000 Bilder\n",
    "#72,06 Prozent mit Durchschnittsdifferenz über die ersten 10000 Bilder"
   ]
  },
  {
   "cell_type": "code",
   "execution_count": 136,
   "metadata": {},
   "outputs": [],
   "source": [
    "# Verwendung durch Abfrage mit train_array und k = 1\n",
    "def kNN(img, k=4, train = True):\n",
    "    counter = [0,0,0,0,0,0,0,0,0,0]\n",
    "    max_indices = []\n",
    "    dist = knn.distances(train_array, img)\n",
    "\n",
    "    if train == True:\n",
    "        k_smallest = sorted(range(len(dist)), key = lambda sub: dist[sub])[1:k+1]\n",
    "    \n",
    "    else:\n",
    "        k_smallest = sorted(range(len(dist)), key = lambda sub: dist[sub])[0:k]\n",
    "\n",
    "    \n",
    "    for i in range(0, k):\n",
    "        counter[train_array[k_smallest[i],0]] += 1\n",
    "\n",
    "    for j in range(0, 9):\n",
    "        if counter[j] == max(counter):\n",
    "            max_indices.append(j)\n",
    "\n",
    "    if len(max_indices) == 1:\n",
    "        return max_indices[0]\n",
    "\n",
    "    else:\n",
    "        if train == True:\n",
    "            k_smallest = sorted(range(len(dist)), key = lambda sub: dist[sub])[1]\n",
    "        else:\n",
    "            k_smallest = sorted(range(len(dist)), key = lambda sub: dist[sub])[0]\n",
    "        return train_array[k_smallest,0]\n",
    "        \n",
    "        for i in range(0, len(max_indices)):\n",
    "            if max_indices[i] == 9:\n",
    "                return max_indices[i]\n",
    "        \n",
    "        for i in range(0, len(max_indices)):\n",
    "            if max_indices[i] == 5:\n",
    "                for i in range(0, len(max_indices)):\n",
    "                    if max_indices[i] != 5:\n",
    "                        return max_indices[i]\n",
    "\n",
    "        if train == True:\n",
    "            k_smallest = sorted(range(len(dist)), key = lambda sub: dist[sub])[1]\n",
    "        else:\n",
    "            k_smallest = sorted(range(len(dist)), key = lambda sub: dist[sub])[0]\n",
    "        return train_array[k_smallest,0]"
   ]
  },
  {
   "cell_type": "code",
   "execution_count": 137,
   "metadata": {},
   "outputs": [],
   "source": [
    "def validation_kNN_train(s_size, k=5):\n",
    "    true = 0\n",
    "    false = 0\n",
    "    false_pred = []\n",
    "\n",
    "    for i in range(0, s_size):\n",
    "        result_kNN = kNN(train_array[29500 + i, 1:], k, train=True)\n",
    "        if result_kNN == train_array[29500 + i, 0]:\n",
    "            true += 1\n",
    "        else:\n",
    "            false += 1\n",
    "            \n",
    "    return print(f'Anzahl richtig erkannter Digits: {true}\\n\\\n",
    "Anzahl falsch erkannter Digits: {false}\\n\\\n",
    "\\nAnteil richtiger Vorhersagen: {(true/s_size)*100}%')\n"
   ]
  },
  {
   "cell_type": "code",
   "execution_count": 2,
   "metadata": {},
   "outputs": [],
   "source": [
    "import Functions.PCA as pca\n",
    "from Functions.kNN import kNN"
   ]
  },
  {
   "cell_type": "code",
   "execution_count": 3,
   "metadata": {},
   "outputs": [],
   "source": [
    "z_array, z_image = pca.z_transformation(train_array[:, 1:], test_array[3, 1:])"
   ]
  },
  {
   "cell_type": "code",
   "execution_count": 4,
   "metadata": {},
   "outputs": [],
   "source": [
    "pca_arr, pca_img = pca.PCA(z_array, z_image, num_components=30)"
   ]
  },
  {
   "cell_type": "code",
   "execution_count": 8,
   "metadata": {},
   "outputs": [
    {
     "data": {
      "text/plain": [
       "4"
      ]
     },
     "execution_count": 8,
     "metadata": {},
     "output_type": "execute_result"
    }
   ],
   "source": [
    "kNN(pca_arr, pca_img, k = , train=False)"
   ]
  },
  {
   "cell_type": "code",
   "execution_count": 16,
   "metadata": {},
   "outputs": [],
   "source": [
    "def kNN(PCs_arr, PCs_img, k, train = True):\n",
    "   \n",
    "   #Distance calculation\n",
    "    arr_rows = PCs_arr.shape[0]\n",
    "    img_dot = (PCs_img**2).sum(axis=0)*np.ones(shape=(1,arr_rows))\n",
    "    arr_dot = (PCs_arr[:, :]**2).sum(axis=1)\n",
    "    dist_arr =  np.sqrt(img_dot + arr_dot - 2*np.dot(PCs_img, PCs_arr[:, :].T))\n",
    "    dist = dist_arr.tolist()[0]\n",
    "    \n",
    "    #Sorting\n",
    "    counter = [0,0,0,0,0,0,0,0,0,0]\n",
    "    max_indices = []\n",
    "    \n",
    "    if train == True:\n",
    "        k_smallest = sorted(range(len(dist)), key = lambda sub: dist[sub])[1:k+1]\n",
    "    \n",
    "    else:\n",
    "        k_smallest = sorted(range(len(dist)), key = lambda sub: dist[sub])[0:k]\n",
    "\n",
    "    \n",
    "    for i in range(0, k):\n",
    "        counter[train_array[k_smallest[i],0]] += 1\n",
    "\n",
    "    for j in range(0, 9):\n",
    "        if counter[j] == max(counter):\n",
    "            max_indices.append(j)\n",
    "            \n",
    "\n",
    "    if len(max_indices) == 1:\n",
    "        return max_indices[0]\n",
    "\n",
    "    else:\n",
    "        if train == True:\n",
    "            k_smallest = sorted(range(len(dist)), key = lambda sub: dist[sub])[1]\n",
    "        else:\n",
    "            k_smallest = sorted(range(len(dist)), key = lambda sub: dist[sub])[0]\n",
    "        return train_array[k_smallest,0]"
   ]
  },
  {
   "cell_type": "code",
   "execution_count": 35,
   "metadata": {},
   "outputs": [
    {
     "data": {
      "text/plain": [
       "[1, 2, 3]"
      ]
     },
     "execution_count": 35,
     "metadata": {},
     "output_type": "execute_result"
    }
   ],
   "source": []
  },
  {
   "cell_type": "code",
   "execution_count": 17,
   "metadata": {},
   "outputs": [
    {
     "data": {
      "text/plain": [
       "4"
      ]
     },
     "execution_count": 17,
     "metadata": {},
     "output_type": "execute_result"
    }
   ],
   "source": [
    "kNN(pca_arr, pca_img, k = 3, train=False)"
   ]
  },
  {
   "cell_type": "code",
   "execution_count": 10,
   "metadata": {},
   "outputs": [],
   "source": [
    "def validation_kNN_test(s_size, k=5):\n",
    "    true = 0\n",
    "    false = 0\n",
    "\n",
    "    for i in range(0, s_size):\n",
    "\n",
    "        z_array, z_image = pca.z_transformation(train_array[:, 1:], test_array[i, 1:])\n",
    "        pca_arr, pca_img = pca.PCA(z_array, z_image, num_components=30)\n",
    "\n",
    "\n",
    "        result_kNN = kNN(pca_arr, pca_img, k = 5, train=False)\n",
    "        if result_kNN == test_array[i, 0]:\n",
    "            true += 1\n",
    "        else:\n",
    "            false += 1\n",
    "\n",
    "    return print(f'Anzahl richtig erkannter Digits: {true}\\n\\\n",
    "Anzahl falsch erkannter Digits: {false}\\n\\\n",
    "\\nAnteil richtiger Vorhersagen: {(true/s_size)*100}%')"
   ]
  },
  {
   "cell_type": "code",
   "execution_count": 12,
   "metadata": {},
   "outputs": [
    {
     "name": "stdout",
     "output_type": "stream",
     "text": [
      "Anzahl richtig erkannter Digits: 145\n",
      "Anzahl falsch erkannter Digits: 5\n",
      "\n",
      "Anteil richtiger Vorhersagen: 96.66666666666667%\n"
     ]
    }
   ],
   "source": [
    "validation_kNN_test(150)"
   ]
  },
  {
   "cell_type": "code",
   "execution_count": null,
   "metadata": {},
   "outputs": [],
   "source": []
  },
  {
   "cell_type": "code",
   "execution_count": 138,
   "metadata": {},
   "outputs": [
    {
     "name": "stdout",
     "output_type": "stream",
     "text": [
      "Anzahl richtig erkannter Digits: 975\n",
      "Anzahl falsch erkannter Digits: 25\n",
      "\n",
      "Anteil richtiger Vorhersagen: 97.5%\n"
     ]
    }
   ],
   "source": [
    "#Idee zur weiteren Verbesserung: Schauen welche Zahlen am häufigsten fälschlicherweise vorhergesagt werden. Vergleich mit Durchschnittszahl. Gewichtung verschiedener Faktoren.\n",
    "\n",
    "#Validation mit Trainingsdatensatz und k=1 bei mehreren Maxima (Zeile 29500 - 30500)\n",
    "#k=1 -> 97,3%\n",
    "#k=2 -> 97,3%\n",
    "#k=3 -> 97,6%\n",
    "#k=4 -> 97,6%\n",
    "#k=5 -> 97,4%\n",
    "#k=6 -> 97,2%\n",
    "validation_kNN_train(1000, k = 4)\n",
    "#97,4% mit -> if 9 elif 1 elif 2 -> kNN = 1\n",
    "#97,7% mit -> if 9 elif 1 elif 2 -> kNN = 1 + Pixel-Gewichtung\n",
    "#97,6% mit -> if 9 elif 5 -> kNN = 1 + Pixel-Gewichtung\n",
    "#97,4% mit -> if 9 -> kNN = 1 + Pixel-Gewichtung\n",
    "#97,4% mit -> kNN = 1 + Pixel-Gewichtung\n",
    "#97,5% mit -> kNN = 1\n"
   ]
  },
  {
   "cell_type": "code",
   "execution_count": 104,
   "metadata": {},
   "outputs": [
    {
     "ename": "NameError",
     "evalue": "name 'true' is not defined",
     "output_type": "error",
     "traceback": [
      "\u001b[0;31m---------------------------------------------------------------------------\u001b[0m",
      "\u001b[0;31mNameError\u001b[0m                                 Traceback (most recent call last)",
      "\u001b[1;32m/Users/benjaminwehnert/digitrecognition/2022-topic-01-team-02/Benni.ipynb Cell 13'\u001b[0m in \u001b[0;36m<cell line: 2>\u001b[0;34m()\u001b[0m\n\u001b[1;32m      <a href='vscode-notebook-cell:/Users/benjaminwehnert/digitrecognition/2022-topic-01-team-02/Benni.ipynb#ch0000027?line=0'>1</a>\u001b[0m \u001b[39mlen\u001b[39m(false_pred)\n\u001b[0;32m----> <a href='vscode-notebook-cell:/Users/benjaminwehnert/digitrecognition/2022-topic-01-team-02/Benni.ipynb#ch0000027?line=1'>2</a>\u001b[0m true\n",
      "\u001b[0;31mNameError\u001b[0m: name 'true' is not defined"
     ]
    }
   ],
   "source": [
    "len(false_pred)"
   ]
  },
  {
   "cell_type": "code",
   "execution_count": 125,
   "metadata": {},
   "outputs": [
    {
     "name": "stdout",
     "output_type": "stream",
     "text": [
      "[1, 106, 3, 2, 3, 4, 1, 2, 1, 0]\n",
      "[1, 3, 3, 2, 3, 6, 2, 2, 1, 0]\n"
     ]
    }
   ],
   "source": [
    "#welche Zahlen wie oft nicht erkannt werden bei Train mit Pixelgewichtung, mit k=1 bei mehreren Maxima (Zeile 29500 - 30500)\n",
    "# -> [2, 1, 1, 5, 1, 2, 0, 4, 1, 6]\n",
    "counter = [0,0,0,0,0,0,0,0,0,0]\n",
    "for i in range(0, len(false_ind)):\n",
    "    j = false_ind[i]\n",
    "    counter[j] += 1\n",
    "print(counter)\n",
    "\n",
    "#welche Zahlen wie oft fälschlicherweise berechnet werden bei Train mit Pixelgewichtung, mit k=1 bei mehreren Maxima (Zeile 29500 - 30500)\n",
    "# -> [1, 3, 3, 2, 3, 6, 2, 2, 1, 0]\n",
    "counter = [0,0,0,0,0,0,0,0,0,0]\n",
    "for i in range(0, len(false_pred)):\n",
    "    j = false_pred[i]\n",
    "    counter[j] += 1\n",
    "print(counter)\n",
    "\n",
    "#interessant sind hier vor allem die Zahlen bei denen es starke Abweichungen gibt. Also besonders 5 und 9. -> if 9 elif 5 -> kNN = 1"
   ]
  },
  {
   "cell_type": "markdown",
   "metadata": {},
   "source": [
    "x = np.array([[1,2,3],[3,2,5],[9,0,2]])\n",
    "print(x)\n",
    "min1 = np.argwhere(x == np.min(x[:,0]))\n",
    "min2 = min1[0]\n",
    "min2"
   ]
  }
 ],
 "metadata": {
  "interpreter": {
   "hash": "541128196ab36f0af3e9e280f838c1b088f9a4d7f344cac0adf931df1b356af5"
  },
  "kernelspec": {
   "display_name": "Python 3.9.12 ('digit_recognitoin_env')",
   "language": "python",
   "name": "python3"
  },
  "language_info": {
   "codemirror_mode": {
    "name": "ipython",
    "version": 3
   },
   "file_extension": ".py",
   "mimetype": "text/x-python",
   "name": "python",
   "nbconvert_exporter": "python",
   "pygments_lexer": "ipython3",
   "version": "3.9.12"
  },
  "orig_nbformat": 4
 },
 "nbformat": 4,
 "nbformat_minor": 2
}
