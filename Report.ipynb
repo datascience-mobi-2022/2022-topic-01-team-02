{
 "cells": [
  {
   "cell_type": "markdown",
   "metadata": {},
   "source": [
    "# Implementation and evaluation of K-nearest neighbors (KNN) algorithm for handwritten digit recognition\n",
    "### Data Analysis MoBi SoSe2022, Topic 01: Biomedical Image Analysis\n",
    "### Tutorin: Marie Becker\n",
    "### Team 02: Lena Fleischhacker, Pia Röhrich, Hellen Röttgen, Benjamin Wehnert\n",
    "#### July 2022"
   ]
  },
  {
   "cell_type": "markdown",
   "metadata": {},
   "source": [
    "# Abstract"
   ]
  },
  {
   "cell_type": "markdown",
   "metadata": {},
   "source": [
    "# Table of contents\n",
    "\n",
    "1. [Introduction](#Introduction)\n",
    "2. [Imports](#Imports)\n",
    "3. [Material](#Material)\n",
    "4. [Methods](#Methods) <br>\n",
    "    i. Z-tranformation (#Z-transformation) <br>\n",
    "    ii. Principal component analysis <br>\n",
    "    iii. k-nearest neighbors <br>\n",
    "    iv. Finding optimal k and number of PC's <br>\n",
    "    v. Expanded code <br>\n",
    "        a. average numbers <br>\n",
    "        b. PCA with SVD <br>\n",
    "        c. Self-written digit recognition <br>\n",
    "5. [Results](#Results)\n",
    "    i. Z-tranformation <br>\n",
    "    ii. Principal component analysis <br>\n",
    "    iii. k-nearest neighbors <br>\n",
    "    iv. Finding optimal k and number of PC's <br>\n",
    "    v. Expanded code <br>\n",
    "        a. average numbers <br>\n",
    "        b. PCA with SVD <br>\n",
    "        c. Self-written digit recognition <br>\n",
    "6. [Discussion](#Discussion)\n",
    "7. [Bibliography](#Bibliography)\n",
    "\n"
   ]
  },
  {
   "cell_type": "markdown",
   "metadata": {},
   "source": [
    "# Introduction\n",
    "The main goal of the project is to write an algorithm that accurately recognizes handwritten digits from the MNIST dataset using the K-nearest neighbors method. Digit recognition is a form of pattern recognition which describes the operation of identifying digits from images. This is not an easy task, taking into consideration that handwritten numbers are not written in the same style. Thus, the categories are harder to classify. With almost all processes in everyday life being digitalized, e.g. banking transactions or contact forms, developing such algorithms has become extremely useful and almost inevitable.\n",
    "\n",
    "For this reason, the MNIST data set has been well studied and analyzed over the past decades, leading to the development of algorithms that recognize digits with the same accuracy as humans. This laid the foundation for the development of more advanced pattern recognition algorithms such as detecting house numbers from photos with the SVHN (Street View house numbers) dataset. These algorithms can be very useful for future applications like better navigation systems.\n",
    "\n",
    "However, in order to properly understand the fundmentals of machine learning, it is useful to reproduce the basic steps of digit recognition using the MNIST data set.\n",
    "\n",
    "First of all, the data is z-transformed for easier handling. Prior to the implementation of Knn, a Principal Component Analysis (PCA) is implemented to minimize computing power by reducing dimensionality.The PCA-transformed data is used for digit recognition based on the Knn method (k-nearest neighbors).\n",
    "\n",
    "Additionally, the digit recognition algorithm was used to recognize self-written digits instead of those from the test data set.\n"
   ]
  },
  {
   "cell_type": "markdown",
   "metadata": {},
   "source": [
    "# Imports\n",
    "For the algorithm and the visualization of the results, several functions from the packages numpy, pandas, seaborn and matplotlib were used. For more clarity, self-written functions are stored in other notebooks and are therefore accessed through modules as well."
   ]
  },
  {
   "cell_type": "code",
   "execution_count": 2,
   "metadata": {},
   "outputs": [],
   "source": [
    "import numpy as np\n",
    "import pandas as pd\n",
    "import seaborn as sb\n",
    "import matplotlib.pyplot as plt\n",
    "import Functions.PCA as pca\n",
    "import Functions.data_load as dat\n",
    "import Functions.visualization as vis\n",
    "import Functions.average_img as avg\n",
    "\n",
    "train_array, test_array = dat.load_data()\n",
    "cleaned_arr = dat.clean_train_arr()\n",
    "z_arr = pca.z_arr(cleaned_arr)\n",
    "reduced_arr = pca.arr_only(z_arr, pca.create_sorted_eigenvec(30))"
   ]
  },
  {
   "cell_type": "markdown",
   "metadata": {},
   "source": [
    "# Material\n",
    "The data set used for the project is the standardized MNIST data set. MNIST stands for \"Modified National Institute of Standard and Technology database\". The data set consists of 70000 images which are divided into a training data set comprising 60000 images and a test data set comprising 10000 images. Each image shows a handwritten digit ranging from zero to nine. The digits were written by american office emloyees and high school students.\n",
    "\n",
    "The images are stored as grayscaled comma-seperated values (csv) files. Each image consists of 28 x 28 = 784 pixels with intensity values ranging from 0 to 255. This means that all training images can be displayed in a 60000 x 785 matrix with the first column giving the number visible in the image. Consequently, the test images can be dispalyed as a 10000 x 785 matrix.\n",
    "\n",
    "For algorithm-writing, only the training data is used. Otherwise, the accuracy of the algorithm is adulterated because it is fitted to the test data.\n",
    "\n",
    "Example images from the train array and test array are displayed in the following:"
   ]
  },
  {
   "cell_type": "code",
   "execution_count": 7,
   "metadata": {},
   "outputs": [
    {
     "data": {
      "image/png": "[encoded data removed]",
      "text/plain": [
       "<Figure size 720x360 with 10 Axes>"
      ]
     },
     "metadata": {
      "needs_background": "light"
     },
     "output_type": "display_data"
    }
   ],
   "source": [
    "vis.ten_digits(train_array)"
   ]
  },
  {
   "cell_type": "code",
   "execution_count": 6,
   "metadata": {},
   "outputs": [
    {
     "data": {
      "image/png": "[encoded data removed]",
      "text/plain": [
       "<Figure size 720x360 with 10 Axes>"
      ]
     },
     "metadata": {
      "needs_background": "light"
     },
     "output_type": "display_data"
    }
   ],
   "source": [
    "vis.ten_digits(test_array)"
   ]
  },
  {
   "cell_type": "markdown",
   "metadata": {},
   "source": [
    "# Methods\n",
    "flow cart with steps\n",
    "\n",
    "## Z-Transformation (PCA preparation)\n",
    "Using the z-transformation, values of a sample are converted to z-scores. The distribution of these z-scores has a mean of 0 and a standard deviation of 1. Z-scores make the sample comparable by making the data non-dimensional. The z-scores are calculated as follows:\n",
    "\n",
    "$$ Z = \\frac{\\left(X_i-\\bar{X}\\right)}{\\sigma_{x}} $$\n",
    "\n",
    "Applied to the project, this means that the average intensity and standard deviation for each pixel need to be calculated. After that, each pixel in each of the images needs to be z-transformed. This adjusts the brightness of the images.\n",
    "\n",
    "Some pixels, such as those in the corners, have an intensity of zero in all images. Following from this, the mean and thus the standard deviation will also be zero. As a division by zero is not possible, these pixels can not be z-transformed. Therefor, a cleaned data set (cleaned_train_array) was created in which all colums with zeroes only are deleted. Of course, the same columns are also deleted from the images fed to the algorithm later. The cleaned training array can be accessed using the function clean_train_arr. \n",
    "\n",
    "The algorithm for the z-transformation of the training array can be accessed through the self-written function z_arr. The function z_transformation additionally z-tranforms an image using the means and standard deviation of the training data. For shorter run times,  the z-transformed array was stored an can be accessed through the function load_z_arr_train."
   ]
  },
  {
   "cell_type": "markdown",
   "metadata": {},
   "source": [
    "## Principal Component Analysis (PCA)\n",
    "\n",
    "PCA is used for dimensionality reduction and therefor implemented ahead of Knn. Knn is a lazy learning algorithm, meaning that instead of learning from the training data, the algorithm simply compares input with the trainig data each time it runs. Consequently, a dimension reduction shortens the run time.\n",
    "\n",
    "Despite losing dimensions, hardly any information should be lost. Therefore, the first step of a PCA is to identify the correlation between different features of the dataset and putting those values into a correlation matrix. This is done by using the Pearson correlation which is calcualted as follows:\n",
    "\n",
    "$$ Corr(x,y) = \\frac{1}{{N-1}}\\sum_{i=1}^N\\frac{(x_i-\\overline{x})}{s_x}\\frac{(y_i-\\overline{y})}{s_y}\\ $$\n",
    "\n",
    "After this step, the eigenvectors v and eigenvalues λ of the covariance matrix A are calculated. The relationship between a matrix, eigenvectors and eigenvalues is expressed in the following equation:\n",
    "\n",
    "$$ Av_i=λ_iv_i $$\n",
    "\n",
    "If calculated by hand, the eigenvalues need to be calculated in order to find the eigenvectors. The eigenvalues are the diagonal entries of a matrix S which can be found through diagonalisation of A, satisfying the following equation:\n",
    "\n",
    "$$ S=\\frac{1}{N-1}\\, (X_{CS}V)'\\, (X_{CS}V) $$\n",
    "\n",
    "Spatially, the diagonalization describes a rotation of the correlation matrix. This allows to look at the data points from a different angle, defining new axes/features called principal components. These are inserted into a new matrix and sorted according to their corresponding eigenvalues. The higher the eigenvalue, the higher the amount of variance covered. \n",
    "\n",
    "From eigenvalue matrix, a certain number k of principal components is chosen, a step that is further explained under finding the optimal k and number of PC's.\n",
    "\n",
    "The last step of a PCA is the transformation of the original data matrix with the principal components. This is done by computing the dot product of A with a matrix made up of the top k eigenvectors, resulting in the transformed data matrix.\n",
    "\n",
    "In summary, the principal components allow us to reduce dimensions and run time by leaving out highly correlated information.\n",
    "\n",
    "In the project, these steps were implemented using a self-written PCA function. In this case, the features are the intensity values. The algorithm follows the steps mentioned above mainly using numpy functions. However, instead of calculating the Pearson Correlation in the first step, just the covariance is calculated as the division by the standard deviation becomes unnecessary due to the the previous z-transformation.\n"
   ]
  },
  {
   "cell_type": "markdown",
   "metadata": {},
   "source": [
    "## K-nearest neighbors (Knn)\n",
    "K-nearest neighbors (Knn) is the machine learning algorithm that was used to classify the numbers. It is a simple, supervised machine learning algorithm.\n",
    "\n"
   ]
  },
  {
   "cell_type": "markdown",
   "metadata": {},
   "source": [
    "## Finding optimal k and number of PC's"
   ]
  },
  {
   "cell_type": "markdown",
   "metadata": {},
   "source": [
    "## Expanded code\n",
    "\n",
    "hier könnte ihr flowchart stehen"
   ]
  },
  {
   "cell_type": "markdown",
   "metadata": {},
   "source": [
    "### Average images\n",
    "\n",
    "To get a first impression of how related the images in the data set are, an algorithm calculating average digits was implemented. The according steps were saved in the avg_digit_img function. \n",
    "\n",
    "The calculation is done by \n",
    " 1. Choosing all images from the training data set containing one same number\n",
    " 2. Summing up the intensity values for each pixel of these images\n",
    " 3. Dividing the intensity sum by the number of images used\n",
    "\n",
    "In the nect step, the average images are used for digit recognition. Function?\n",
    "This is done by substracting the instensity values of the average digit from the image given. The algorithm identies the image as the digit with the lowest intensity difference. "
   ]
  },
  {
   "cell_type": "markdown",
   "metadata": {},
   "source": [
    "### PCA with singular value decomposition (SVD)\n",
    "\n",
    "Instead of using the eigenvector decomposition of the correlation matrix to calculate the principal components, singular value decomposition (SVD) can be applied. The main difference between the two decomposition methods is that the matrices do not need to be square matrices for SVD. All matrices satisfy the following equation:\n",
    "\n",
    "$$ M = USV^{T} $$\n",
    "\n",
    "The columns of the matrix V are used as the principal components. The corresponding function is called PCA_SVD. It identifies the principal components as explained and computes the dor product of tha data matrix with the top k eigenvectors."
   ]
  },
  {
   "cell_type": "markdown",
   "metadata": {},
   "source": [
    "\n",
    "### Self-written digit recognition\n",
    "\n",
    "In addition to using the PCA und Knn algorithm to recognize numbers from the MNIST data set, it is used to recognize digits that were handwritten on an iPad. THe function is labeled load_jpg.It comprises the following steps:\n",
    "\n",
    "1. importing a jpeg image of the handwritten digit into the notebook using functions from the pillow package.\n",
    "2. reformatting the image to make it comparable with training images from MNISt data set <br>\n",
    "    i.  conversion to grayscale <br>\n",
    "    ii.  reshaping the jpeg into a numpy array <br>\n",
    "    iii.  deleting rows and columns so that tha overall number of pixels is divisible by 28 <br>\n",
    "    iv. reducing the number of pixels in the image to 784 by averaging squares of pixels and creating a 28x28 image from the means <br>\n",
    "3. apply z-transformation, PCA and Knn algorithms to image\n"
   ]
  },
  {
   "cell_type": "markdown",
   "metadata": {},
   "source": [
    "# Results\n"
   ]
  },
  {
   "cell_type": "markdown",
   "metadata": {},
   "source": [
    "## 4.i.) Results Z-Transformation"
   ]
  },
  {
   "cell_type": "markdown",
   "metadata": {},
   "source": [
    "## 4.ii.) Results PCA"
   ]
  },
  {
   "cell_type": "markdown",
   "metadata": {},
   "source": [
    "## 4.iii.) Results kNN"
   ]
  },
  {
   "cell_type": "markdown",
   "metadata": {},
   "source": [
    "## Results Finding optimal k and number of PC's"
   ]
  },
  {
   "cell_type": "markdown",
   "metadata": {},
   "source": [
    "## Results expanded code \n",
    "\n",
    "### Average images\n",
    "\n",
    "\n",
    "### PCA with singular value decomposition (SVD)\n",
    "\n",
    "\n",
    "### Self-written digit recognition"
   ]
  },
  {
   "cell_type": "markdown",
   "metadata": {},
   "source": [
    "### 4.iv.) Self-written digit recognition\n",
    "The self-written digit recognition has an accuracy of ??\n",
    "\n",
    "\n",
    "\n"
   ]
  },
  {
   "cell_type": "code",
   "execution_count": null,
   "metadata": {},
   "outputs": [],
   "source": [
    "#code showing screenshot and 28x28 pixel picture"
   ]
  },
  {
   "cell_type": "markdown",
   "metadata": {},
   "source": [
    "# 5) Discussion\n",
    "\n",
    "\n",
    "Good recognition of numbers handwritten in american style but not european style"
   ]
  },
  {
   "cell_type": "markdown",
   "metadata": {},
   "source": [
    "# 6) Bibliography\n",
    "Netzer, Y. et al. \"Reading Digits in Natural Images with Unsupervised Feature Learning.\" Proceedings of the Workshop on Neural Information Processing Systems (2011)"
   ]
  }
 ],
 "metadata": {
  "kernelspec": {
   "display_name": "Python 3.9.12 ('digit_recognitoin_env')",
   "language": "python",
   "name": "python3"
  },
  "language_info": {
   "codemirror_mode": {
    "name": "ipython",
    "version": 3
   },
   "file_extension": ".py",
   "mimetype": "text/x-python",
   "name": "python",
   "nbconvert_exporter": "python",
   "pygments_lexer": "ipython3",
   "version": "3.9.12"
  },
  "orig_nbformat": 4,
  "vscode": {
   "interpreter": {
    "hash": "68e0daca2f49f0fe5ea3275ce55ac6db18cba9347d686286b62639c095bd2dc6"
   }
  }
 },
 "nbformat": 4,
 "nbformat_minor": 2
}
