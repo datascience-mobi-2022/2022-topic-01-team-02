{
 "cells": [
  {
   "cell_type": "code",
   "execution_count": 1,
   "metadata": {},
   "outputs": [],
   "source": [
    "import numpy as np\n",
    "import pandas as pd\n",
    "import seaborn as sb\n",
    "import matplotlib.pyplot as plt\n",
    "import Functions.PCA as pca\n",
    "import Functions.data_load as dat\n",
    "import Functions.visualization as vis\n",
    "import Functions.average_img as avg\n",
    "\n",
    "#load data\n",
    "train_digits = pd.read_csv(\"data/mnist_train.csv\", header = None)\n",
    "test_digits = pd.read_csv(\"data/mnist_test.csv\", header = None)\n",
    "#convert pandas Data Frame to Numpy Array\n",
    "train_array = train_digits.to_numpy()\n",
    "test_array = test_digits.to_numpy()"
   ]
  },
  {
   "cell_type": "code",
   "execution_count": 2,
   "metadata": {},
   "outputs": [],
   "source": [
    "train_arr_cleaned_df = pd.read_csv(\"data/pca/cleaned_train_array.csv\", header = None)\n",
    "train_arr_cleaned = train_arr_cleaned_df.to_numpy()"
   ]
  },
  {
   "cell_type": "code",
   "execution_count": 10,
   "metadata": {},
   "outputs": [
    {
     "name": "stdout",
     "output_type": "stream",
     "text": [
      "-0.004418115\n"
     ]
    }
   ],
   "source": [
    "z_array = pca.z_arr(train_arr_cleaned)\n",
    "\n",
    "df = pd.DataFrame(z_array)\n",
    "df = df.round(decimals=9)\n",
    "print(df.iloc[0,0])\n",
    "df.to_csv('data/pca/z_array.csv', index=None, header=None)"
   ]
  },
  {
   "cell_type": "code",
   "execution_count": 4,
   "metadata": {},
   "outputs": [],
   "source": [
    "z_arr_df = pd.read_csv(\"data/pca/z_array.csv\", header=None)\n",
    "z_arr = z_arr_df.to_numpy()\n"
   ]
  },
  {
   "cell_type": "code",
   "execution_count": 5,
   "metadata": {},
   "outputs": [
    {
     "data": {
      "text/plain": [
       "(60000, 717)"
      ]
     },
     "execution_count": 5,
     "metadata": {},
     "output_type": "execute_result"
    }
   ],
   "source": [
    "z_arr.shape"
   ]
  }
 ],
 "metadata": {
  "interpreter": {
   "hash": "ca3de042b2bb5dd92cbadca2631247f2fa79333deaf9b8dcdb0bc6f10ff44b46"
  },
  "kernelspec": {
   "display_name": "Python 3.9.12 ('digit_recognitoin_env')",
   "language": "python",
   "name": "python3"
  },
  "language_info": {
   "codemirror_mode": {
    "name": "ipython",
    "version": 3
   },
   "file_extension": ".py",
   "mimetype": "text/x-python",
   "name": "python",
   "nbconvert_exporter": "python",
   "pygments_lexer": "ipython3",
   "version": "3.9.12"
  },
  "orig_nbformat": 4
 },
 "nbformat": 4,
 "nbformat_minor": 2
}
