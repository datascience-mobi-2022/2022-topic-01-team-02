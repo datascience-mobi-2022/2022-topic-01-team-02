{
 "cells": [
  {
   "cell_type": "code",
   "execution_count": 4,
   "metadata": {},
   "outputs": [],
   "source": [
    "import numpy as np\n",
    "import pandas as pd\n",
    "import seaborn as sb\n",
    "import matplotlib.pyplot as plt\n",
    "import Functions.PCA as pca\n",
    "import Functions.data_load as dat\n",
    "import Functions.visualization as vis\n",
    "import Functions.average_img as avg\n",
    "import Functions.k_nearest as knn\n",
    "\n",
    "#load data\n",
    "train_array, test_array = dat.load_data()\n",
    "cleaned_arr = dat.clean_train_arr()\n",
    "z_arr = pca.z_arr(cleaned_arr)\n"
   ]
  },
  {
   "cell_type": "code",
   "execution_count": 2,
   "metadata": {},
   "outputs": [
    {
     "data": {
      "text/plain": [
       "numpy.ndarray"
      ]
     },
     "execution_count": 2,
     "metadata": {},
     "output_type": "execute_result"
    }
   ],
   "source": [
    "pca.arr_only(z_arr, pca.create_sorted_eigenvec(30))"
   ]
  },
  {
   "cell_type": "code",
   "execution_count": 2,
   "metadata": {},
   "outputs": [],
   "source": [
    "train_arr_cleaned_df = pd.read_csv(\"data/pca/cleaned_train_array.csv\", header = None)\n",
    "train_arr_cleaned = train_arr_cleaned_df.to_numpy()"
   ]
  },
  {
   "cell_type": "code",
   "execution_count": 11,
   "metadata": {},
   "outputs": [],
   "source": [
    "z_array = pca.z_arr(train_arr_cleaned)\n",
    "\n",
    "df = pd.DataFrame(z_array)\n",
    "df.to_csv('data/pca/z_array.csv', index=None, header=None)"
   ]
  },
  {
   "cell_type": "code",
   "execution_count": 12,
   "metadata": {},
   "outputs": [
    {
     "ename": "NameError",
     "evalue": "name 'knn' is not defined",
     "output_type": "error",
     "traceback": [
      "\u001b[0;31m---------------------------------------------------------------------------\u001b[0m",
      "\u001b[0;31mNameError\u001b[0m                                 Traceback (most recent call last)",
      "\u001b[1;32m/Users/benjaminwehnert/digitrecognition/2022-topic-01-team-02/new_.ipynb Cell 4'\u001b[0m in \u001b[0;36m<cell line: 1>\u001b[0;34m()\u001b[0m\n\u001b[0;32m----> <a href='vscode-notebook-cell:/Users/benjaminwehnert/digitrecognition/2022-topic-01-team-02/new_.ipynb#ch0000001?line=0'>1</a>\u001b[0m knn\u001b[39m.\u001b[39mkNN(train_array, pca\u001b[39m.\u001b[39marr_only(pca\u001b[39m.\u001b[39mz_arr(cleaned_arr), pca\u001b[39m.\u001b[39mcreate_sorted_eigenvec(\u001b[39m30\u001b[39m)), pca\u001b[39m.\u001b[39mimage_only(z_arr[\u001b[39m2\u001b[39m,:], pca\u001b[39m.\u001b[39mcreate_sorted_eigenvec(\u001b[39m30\u001b[39m)), \u001b[39m5\u001b[39m, train\u001b[39m=\u001b[39m\u001b[39mTrue\u001b[39;00m)\n",
      "\u001b[0;31mNameError\u001b[0m: name 'knn' is not defined"
     ]
    }
   ],
   "source": [
    "knn.kNN(train_array, pca.arr_only(pca.z_arr(cleaned_arr), pca.create_sorted_eigenvec(30)), pca.image_only(z_arr[2,:], pca.create_sorted_eigenvec(30)), 5, train=True)"
   ]
  },
  {
   "cell_type": "code",
   "execution_count": 19,
   "metadata": {},
   "outputs": [],
   "source": [
    "def validation_kNN_train(s_size, k=5, PC=30):\n",
    "    true = 0\n",
    "    false = 0\n",
    "    eigenvectors_sorted = pca.create_sorted_eigenvec(PC)\n",
    "    pca_arr = pca.arr_only(z_arr, eigenvectors_sorted)\n",
    "    \n",
    "    for i in range(0, s_size):\n",
    "\n",
    "        z_image = z_arr[29500+i, :]\n",
    "        pca_img = pca.image_only(z_image, eigenvectors_sorted)\n",
    "\n",
    "\n",
    "        result_kNN = knn.kNN(train_array, pca_arr, pca_img, k, train=True)\n",
    "        if result_kNN == train_array[29500+i, 0]:\n",
    "            true += 1\n",
    "        else:\n",
    "            false += 1\n",
    "\n",
    "    return print(f'Anzahl richtig erkannter Digits: {true}\\n\\\n",
    "Anzahl falsch erkannter Digits: {false}\\n\\\n",
    "\\nAnteil richtiger Vorhersagen: {(true/s_size)*100}%')"
   ]
  },
  {
   "cell_type": "code",
   "execution_count": 8,
   "metadata": {},
   "outputs": [
    {
     "name": "stdout",
     "output_type": "stream",
     "text": [
      "Anzahl richtig erkannter Digits: 847\n",
      "Anzahl falsch erkannter Digits: 153\n",
      "\n",
      "Anteil richtiger Vorhersagen: 84.7%\n"
     ]
    }
   ],
   "source": [
    "knn.validation_kNN_train(1000, k=10, PC = 7)"
   ]
  },
  {
   "cell_type": "code",
   "execution_count": 27,
   "metadata": {},
   "outputs": [
    {
     "data": {
      "text/plain": [
       "<matplotlib.legend.Legend at 0x7fa90808ac10>"
      ]
     },
     "execution_count": 27,
     "metadata": {},
     "output_type": "execute_result"
    },
    {
     "data": {
      "image/png": "[encoded data removed]",
      "text/plain": [
       "<Figure size 432x288 with 1 Axes>"
      ]
     },
     "metadata": {
      "needs_background": "light"
     },
     "output_type": "display_data"
    }
   ],
   "source": [
    "val_arr1[:,0]\n",
    "PCs = list(range(1, 41))\n",
    "plt.plot(PCs, val_arr1[:,0], label = \"k = 5\")\n",
    "plt.plot(PCs, val_arr1[:,1], label = \"k = 6\")\n",
    "plt.plot(PCs, val_arr1[:,2], label = \"k = 7\")\n",
    "plt.legend()"
   ]
  },
  {
   "cell_type": "code",
   "execution_count": 12,
   "metadata": {},
   "outputs": [
    {
     "data": {
      "text/plain": [
       "array([[ 20.,  25.,  30.],\n",
       "       [ 50.,  55.,  60.],\n",
       "       [ 55.,  55.,  55.],\n",
       "       [ 55.,  60.,  65.],\n",
       "       [ 65.,  70.,  70.],\n",
       "       [ 75.,  75.,  75.],\n",
       "       [ 90.,  80.,  85.],\n",
       "       [ 85.,  85.,  90.],\n",
       "       [ 95.,  95.,  95.],\n",
       "       [ 90.,  90.,  90.],\n",
       "       [ 90.,  90.,  90.],\n",
       "       [ 90.,  90.,  90.],\n",
       "       [ 95.,  90.,  95.],\n",
       "       [ 90.,  90.,  90.],\n",
       "       [ 90.,  90.,  95.],\n",
       "       [ 90.,  90.,  90.],\n",
       "       [ 90.,  90.,  90.],\n",
       "       [ 95.,  95.,  95.],\n",
       "       [ 95.,  95.,  95.],\n",
       "       [ 95.,  95.,  95.],\n",
       "       [ 95.,  95.,  95.],\n",
       "       [100., 100.,  95.],\n",
       "       [100., 100.,  95.],\n",
       "       [100., 100.,  95.],\n",
       "       [ 95.,  95.,  95.],\n",
       "       [ 95.,  95.,  95.],\n",
       "       [ 95.,  95.,  95.],\n",
       "       [ 95.,  95.,  95.],\n",
       "       [ 95.,  95.,  95.],\n",
       "       [ 95.,  95.,  95.],\n",
       "       [ 95.,  95.,  95.],\n",
       "       [ 95.,  95.,  95.],\n",
       "       [ 95.,  95.,  95.],\n",
       "       [ 95.,  95.,  95.],\n",
       "       [ 95.,  95.,  95.],\n",
       "       [ 95.,  95.,  95.],\n",
       "       [ 95.,  95.,  95.],\n",
       "       [ 95.,  95.,  95.],\n",
       "       [ 95.,  95.,  95.],\n",
       "       [ 95.,  95.,  95.]])"
      ]
     },
     "execution_count": 12,
     "metadata": {},
     "output_type": "execute_result"
    }
   ],
   "source": [
    "val_arr1 = np.zeros((40, 3))\n",
    "for i in range(1, 41):\n",
    "    for j in range(5, 8):\n",
    "        val_arr1[i-1, j-5] = knn.validation_kNN_train_matrix(20, k=j, PC=i)\n",
    "val_arr1"
   ]
  },
  {
   "cell_type": "code",
   "execution_count": 7,
   "metadata": {},
   "outputs": [
    {
     "data": {
      "text/plain": [
       "array([[  0.,   0.,  10.,   0.,   0.,  10.,  10.,  10.,   0.,   0.],\n",
       "       [ 60.,  60.,  60.,  60.,  60.,  70.,  70.,  70.,  70.,  70.],\n",
       "       [ 40.,  40.,  40.,  40.,  50.,  60.,  60.,  60.,  60.,  60.],\n",
       "       [ 60.,  60.,  60.,  60.,  60.,  60.,  60.,  60.,  60.,  60.],\n",
       "       [ 70.,  70.,  60.,  60.,  60.,  70.,  70.,  70.,  70.,  60.],\n",
       "       [ 70.,  70.,  60.,  60.,  60.,  60.,  60.,  60.,  60.,  60.],\n",
       "       [100.,  90.,  70.,  70.,  80.,  70.,  70.,  80.,  70.,  70.],\n",
       "       [ 70.,  70.,  70.,  70.,  70.,  70.,  80.,  70.,  70.,  70.],\n",
       "       [ 90.,  90.,  90.,  90.,  90.,  90.,  90.,  90.,  90.,  90.],\n",
       "       [ 90.,  80.,  90.,  90.,  80.,  80.,  80.,  80.,  80.,  80.],\n",
       "       [ 80.,  70.,  80.,  80.,  80.,  80.,  80.,  80.,  80.,  80.],\n",
       "       [ 90.,  90.,  90.,  90.,  80.,  80.,  80.,  80.,  80.,  80.],\n",
       "       [ 90.,  90.,  90.,  90.,  90.,  80.,  90.,  80.,  80.,  80.],\n",
       "       [ 90.,  90.,  80.,  90.,  80.,  80.,  80.,  80.,  80.,  80.],\n",
       "       [ 90.,  90.,  90.,  90.,  80.,  80.,  90.,  80.,  90.,  80.],\n",
       "       [ 90.,  90.,  90.,  90.,  80.,  80.,  80.,  80.,  80.,  80.],\n",
       "       [ 90.,  90.,  90.,  90.,  80.,  80.,  80.,  80.,  80.,  80.],\n",
       "       [100., 100.,  90.,  90.,  90.,  90.,  90.,  80.,  90.,  80.],\n",
       "       [100., 100., 100., 100.,  90.,  90.,  90.,  90.,  90.,  80.],\n",
       "       [100., 100., 100., 100.,  90.,  90.,  90.,  80.,  90.,  90.],\n",
       "       [100., 100.,  90., 100.,  90.,  90.,  90.,  90.,  90.,  90.],\n",
       "       [100., 100., 100., 100., 100., 100.,  90.,  90.,  90.,  90.],\n",
       "       [100., 100., 100., 100., 100., 100.,  90.,  90.,  90.,  90.],\n",
       "       [100., 100., 100., 100., 100., 100.,  90.,  90.,  90.,  90.],\n",
       "       [100., 100., 100., 100.,  90.,  90.,  90.,  90.,  90.,  90.],\n",
       "       [100., 100., 100., 100.,  90.,  90.,  90.,  90.,  90.,  90.],\n",
       "       [100., 100., 100., 100.,  90.,  90.,  90.,  90.,  90.,  90.],\n",
       "       [100., 100., 100., 100.,  90.,  90.,  90.,  90.,  90.,  90.],\n",
       "       [100., 100., 100., 100.,  90.,  90.,  90.,  90.,  90.,  90.],\n",
       "       [100., 100., 100., 100.,  90.,  90.,  90.,  90.,  90.,  90.]])"
      ]
     },
     "execution_count": 7,
     "metadata": {},
     "output_type": "execute_result"
    }
   ],
   "source": [
    "val_arr = np.zeros((30, 10))\n",
    "for i in range(1, 31):\n",
    "    for j in range(1, 11):\n",
    "        val_arr[i-1, j-1] = knn.validation_kNN_train_matrix(10, k=j, PC=i)\n",
    "val_arr"
   ]
  }
 ],
 "metadata": {
  "kernelspec": {
   "display_name": "Python 3.9.12 ('digit_recognitoin_env')",
   "language": "python",
   "name": "python3"
  },
  "language_info": {
   "codemirror_mode": {
    "name": "ipython",
    "version": 3
   },
   "file_extension": ".py",
   "mimetype": "text/x-python",
   "name": "python",
   "nbconvert_exporter": "python",
   "pygments_lexer": "ipython3",
   "version": "3.9.12"
  },
  "orig_nbformat": 4,
  "vscode": {
   "interpreter": {
    "hash": "541128196ab36f0af3e9e280f838c1b088f9a4d7f344cac0adf931df1b356af5"
   }
  }
 },
 "nbformat": 4,
 "nbformat_minor": 2
}
