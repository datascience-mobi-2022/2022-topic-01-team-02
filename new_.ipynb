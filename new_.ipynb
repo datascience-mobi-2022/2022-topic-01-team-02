{
 "cells": [
  {
   "cell_type": "code",
   "execution_count": 1,
   "metadata": {},
   "outputs": [
    {
     "ename": "ModuleNotFoundError",
     "evalue": "No module named 'data_load'",
     "output_type": "error",
     "traceback": [
      "\u001b[0;31m---------------------------------------------------------------------------\u001b[0m",
      "\u001b[0;31mModuleNotFoundError\u001b[0m                       Traceback (most recent call last)",
      "\u001b[1;32m/Users/H/2022-topic-01-team-02/new_.ipynb Zelle 1\u001b[0m in \u001b[0;36m<cell line: 5>\u001b[0;34m()\u001b[0m\n\u001b[1;32m      <a href='vscode-notebook-cell:/Users/H/2022-topic-01-team-02/new_.ipynb#ch0000000?line=2'>3</a>\u001b[0m \u001b[39mimport\u001b[39;00m \u001b[39mseaborn\u001b[39;00m \u001b[39mas\u001b[39;00m \u001b[39msb\u001b[39;00m\n\u001b[1;32m      <a href='vscode-notebook-cell:/Users/H/2022-topic-01-team-02/new_.ipynb#ch0000000?line=3'>4</a>\u001b[0m \u001b[39mimport\u001b[39;00m \u001b[39mmatplotlib\u001b[39;00m\u001b[39m.\u001b[39;00m\u001b[39mpyplot\u001b[39;00m \u001b[39mas\u001b[39;00m \u001b[39mplt\u001b[39;00m\n\u001b[0;32m----> <a href='vscode-notebook-cell:/Users/H/2022-topic-01-team-02/new_.ipynb#ch0000000?line=4'>5</a>\u001b[0m \u001b[39mimport\u001b[39;00m \u001b[39mFunctions\u001b[39;00m\u001b[39m.\u001b[39;00m\u001b[39mPCA\u001b[39;00m \u001b[39mas\u001b[39;00m \u001b[39mpca\u001b[39;00m\n\u001b[1;32m      <a href='vscode-notebook-cell:/Users/H/2022-topic-01-team-02/new_.ipynb#ch0000000?line=5'>6</a>\u001b[0m \u001b[39mimport\u001b[39;00m \u001b[39mFunctions\u001b[39;00m\u001b[39m.\u001b[39;00m\u001b[39mdata_load\u001b[39;00m \u001b[39mas\u001b[39;00m \u001b[39mdat\u001b[39;00m\n\u001b[1;32m      <a href='vscode-notebook-cell:/Users/H/2022-topic-01-team-02/new_.ipynb#ch0000000?line=6'>7</a>\u001b[0m \u001b[39mimport\u001b[39;00m \u001b[39mFunctions\u001b[39;00m\u001b[39m.\u001b[39;00m\u001b[39mvisualization\u001b[39;00m \u001b[39mas\u001b[39;00m \u001b[39mvis\u001b[39;00m\n",
      "File \u001b[0;32m~/2022-topic-01-team-02/Functions/PCA.py:5\u001b[0m, in \u001b[0;36m<module>\u001b[0;34m\u001b[0m\n\u001b[1;32m      3\u001b[0m \u001b[39mimport\u001b[39;00m \u001b[39mpandas\u001b[39;00m \u001b[39mas\u001b[39;00m \u001b[39mpd\u001b[39;00m\n\u001b[1;32m      4\u001b[0m \u001b[39mimport\u001b[39;00m \u001b[39mmatplotlib\u001b[39;00m\u001b[39m.\u001b[39;00m\u001b[39mpyplot\u001b[39;00m \u001b[39mas\u001b[39;00m \u001b[39mplt\u001b[39;00m\n\u001b[0;32m----> 5\u001b[0m \u001b[39mimport\u001b[39;00m \u001b[39mdata_load\u001b[39;00m \u001b[39mas\u001b[39;00m \u001b[39mdat\u001b[39;00m\n\u001b[1;32m      7\u001b[0m std0 \u001b[39m=\u001b[39m dat\u001b[39m.\u001b[39mstd0_load()\n\u001b[1;32m      8\u001b[0m train_arr_cleaned \u001b[39m=\u001b[39m dat\u001b[39m.\u001b[39mclean_train_arr()\n",
      "\u001b[0;31mModuleNotFoundError\u001b[0m: No module named 'data_load'"
     ]
    }
   ],
   "source": [
    "import numpy as np\n",
    "import pandas as pd\n",
    "import seaborn as sb\n",
    "import matplotlib.pyplot as plt\n",
    "import Functions.PCA as pca\n",
    "import Functions.data_load as dat\n",
    "import Functions.visualization as vis\n",
    "import Functions.average_img as avg\n",
    "\n",
    "#load data\n",
    "train_array, test_array = dat.load_data()\n"
   ]
  },
  {
   "cell_type": "code",
   "execution_count": null,
   "metadata": {},
   "outputs": [],
   "source": [
    "bsp_bild = pca.z_img(train_array[2, 1:])\n",
    "print(bsp_bild)"
   ]
  },
  {
   "cell_type": "code",
   "execution_count": 2,
   "metadata": {},
   "outputs": [],
   "source": [
    "train_arr_cleaned_df = pd.read_csv(\"data/pca/cleaned_train_array.csv\", header = None)\n",
    "train_arr_cleaned = train_arr_cleaned_df.to_numpy()"
   ]
  },
  {
   "cell_type": "code",
   "execution_count": 10,
   "metadata": {},
   "outputs": [
    {
     "name": "stdout",
     "output_type": "stream",
     "text": [
      "-0.004418115\n"
     ]
    }
   ],
   "source": [
    "z_array = pca.z_arr(train_arr_cleaned)\n",
    "\n",
    "df = pd.DataFrame(z_array)\n",
    "df = df.round(decimals=9)\n",
    "print(df.iloc[0,0])\n",
    "df.to_csv('data/pca/z_array.csv', index=None, header=None)"
   ]
  },
  {
   "cell_type": "code",
   "execution_count": 4,
   "metadata": {},
   "outputs": [],
   "source": [
    "z_arr_df = pd.read_csv(\"data/pca/z_array.csv\", header=None)\n",
    "z_arr = z_arr_df.to_numpy()\n"
   ]
  },
  {
   "cell_type": "code",
   "execution_count": 5,
   "metadata": {},
   "outputs": [
    {
     "data": {
      "text/plain": [
       "(60000, 717)"
      ]
     },
     "execution_count": 5,
     "metadata": {},
     "output_type": "execute_result"
    }
   ],
   "source": [
    "z_arr.shape"
   ]
  }
 ],
 "metadata": {
  "kernelspec": {
   "display_name": "Python 3.9.12 ('digit_recognitoin_env')",
   "language": "python",
   "name": "python3"
  },
  "language_info": {
   "codemirror_mode": {
    "name": "ipython",
    "version": 3
   },
   "file_extension": ".py",
   "mimetype": "text/x-python",
   "name": "python",
   "nbconvert_exporter": "python",
   "pygments_lexer": "ipython3",
   "version": "3.9.12"
  },
  "orig_nbformat": 4,
  "vscode": {
   "interpreter": {
    "hash": "541128196ab36f0af3e9e280f838c1b088f9a4d7f344cac0adf931df1b356af5"
   }
  }
 },
 "nbformat": 4,
 "nbformat_minor": 2
}
