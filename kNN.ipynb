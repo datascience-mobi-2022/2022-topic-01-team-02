{
 "cells": [
  {
   "cell_type": "code",
   "execution_count": 23,
   "metadata": {},
   "outputs": [],
   "source": [
    "import matplotlib.pyplot as plt\n",
    "import pandas as pd\n",
    "import numpy as np\n",
    "from Functions import kNN as knn\n",
    "train_digits = pd.read_csv(\"data/mnist_train.csv\")\n",
    "test_digits = pd.read_csv(\"data/mnist_test.csv\")\n",
    "train_array = train_digits.to_numpy()\n",
    "test_array = test_digits.to_numpy()"
   ]
  },
  {
   "cell_type": "code",
   "execution_count": 24,
   "metadata": {},
   "outputs": [],
   "source": [
    "def return_label(sample):\n",
    "    return test_array[sample-1, 0]\n",
    "\n",
    "def show_digit(sample):\n",
    "    img = test_array[sample-1, 1:]\n",
    "    img.shape = (28,28)\n",
    "    plt.imshow(img, 'gray')\n"
   ]
  },
  {
   "cell_type": "code",
   "execution_count": 31,
   "metadata": {},
   "outputs": [],
   "source": [
    "# kNN, welches im Falle gleich oft auftretender Zahlen nochmals mit k = 1 wiederholt wird\n",
    "def kNN(img, k=4, train = True):\n",
    "    counter = [0,0,0,0,0,0,0,0,0,0]\n",
    "    max_indices = []\n",
    "    dist = knn.distances(train_array, img)\n",
    "\n",
    "    if train == True:\n",
    "        k_smallest = sorted(range(len(dist)), key = lambda sub: dist[sub])[1:k+1]\n",
    "    \n",
    "    else:\n",
    "        k_smallest = sorted(range(len(dist)), key = lambda sub: dist[sub])[0:k]\n",
    "\n",
    "    \n",
    "    for i in range(0, k):\n",
    "        counter[train_array[k_smallest[i],0]] += 1\n",
    "\n",
    "    for j in range(0, 9):\n",
    "        if counter[j] == max(counter):\n",
    "            max_indices.append(j)\n",
    "\n",
    "    if len(max_indices) == 1:\n",
    "        return max_indices[0]\n",
    "\n",
    "    else:\n",
    "        dist = knn.distances(train_array, img)\n",
    "        if train == True:\n",
    "            k_smallest = sorted(range(len(dist)), key = lambda sub: dist[sub])[1]\n",
    "        else:\n",
    "            k_smallest = sorted(range(len(dist)), key = lambda sub: dist[sub])[0]\n",
    "        return train_array[k_smallest,0]"
   ]
  },
  {
   "cell_type": "code",
   "execution_count": 26,
   "metadata": {},
   "outputs": [],
   "source": [
    "def validation_kNN_train(s_size, k=5):\n",
    "    true = 0\n",
    "    false = 0\n",
    "\n",
    "    for i in range(0, s_size):\n",
    "        result_kNN = kNN(train_array[i, 1:], k, train=True)\n",
    "        if result_kNN == train_array[i, 0]:\n",
    "            true += 1\n",
    "        else:\n",
    "            false += 1\n",
    "\n",
    "    return print(f'Anzahl richtig erkannter Digits: {true}\\n\\\n",
    "Anzahl falsch erkannter Digits: {false}\\n\\\n",
    "\\nAnteil richtiger Vorhersagen: {(true/s_size)*100}%')\n"
   ]
  },
  {
   "cell_type": "code",
   "execution_count": 27,
   "metadata": {},
   "outputs": [],
   "source": [
    "def validation_kNN_test(s_size, k=5):\n",
    "    true = 0\n",
    "    false = 0\n",
    "\n",
    "    for i in range(0, s_size):\n",
    "        result_kNN = kNN(test_array[i, 1:], k, train=False)\n",
    "        if result_kNN == test_array[i, 0]:\n",
    "            true += 1\n",
    "        else:\n",
    "            false += 1\n",
    "\n",
    "    return print(f'Anzahl richtig erkannter Digits: {true}\\n\\\n",
    "Anzahl falsch erkannter Digits: {false}\\n\\\n",
    "\\nAnteil richtiger Vorhersagen: {(true/s_size)*100}%')\n"
   ]
  },
  {
   "cell_type": "code",
   "execution_count": 36,
   "metadata": {},
   "outputs": [
    {
     "name": "stdout",
     "output_type": "stream",
     "text": [
      "Anzahl richtig erkannter Digits: 966\n",
      "Anzahl falsch erkannter Digits: 34\n",
      "\n",
      "Anteil richtiger Vorhersagen: 96.6%\n"
     ]
    }
   ],
   "source": [
    "validation_kNN_test(1000, k = 4)"
   ]
  }
 ],
 "metadata": {
  "interpreter": {
   "hash": "541128196ab36f0af3e9e280f838c1b088f9a4d7f344cac0adf931df1b356af5"
  },
  "kernelspec": {
   "display_name": "Python 3.9.12 ('digit_recognitoin_env')",
   "language": "python",
   "name": "python3"
  },
  "language_info": {
   "codemirror_mode": {
    "name": "ipython",
    "version": 3
   },
   "file_extension": ".py",
   "mimetype": "text/x-python",
   "name": "python",
   "nbconvert_exporter": "python",
   "pygments_lexer": "ipython3",
   "version": "3.9.12"
  },
  "orig_nbformat": 4
 },
 "nbformat": 4,
 "nbformat_minor": 2
}
