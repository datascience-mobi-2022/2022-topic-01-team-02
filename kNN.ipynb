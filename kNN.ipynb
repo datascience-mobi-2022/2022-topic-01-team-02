{
 "cells": [
  {
   "cell_type": "code",
   "execution_count": 1,
   "metadata": {},
   "outputs": [],
   "source": [
    "import matplotlib.pyplot as plt\n",
    "import pandas as pd\n",
    "import numpy as np\n",
    "train_digits = pd.read_csv(\"data/mnist_train.csv\")\n",
    "test_digits = pd.read_csv(\"data/mnist_test.csv\")\n",
    "train_array = train_digits.to_numpy()\n",
    "test_array = test_digits.to_numpy()"
   ]
  },
  {
   "cell_type": "code",
   "execution_count": 2,
   "metadata": {},
   "outputs": [],
   "source": [
    "def kNN(img_input, k=5):\n",
    "    dist = []\n",
    "    counter = [0,0,0,0,0,0,0,0,0,0]\n",
    "    max_indices = []\n",
    "    for i in range(0, train_array.shape[0]):\n",
    "        dist.append(np.linalg.norm(img_input-train_array[i, 1:]))\n",
    "\n",
    "    small_dist = sorted(range(len(dist)), key = lambda sub: dist[sub])[:k]\n",
    "\n",
    "    for j in range(0, len(small_dist)):\n",
    "        counter[train_array[small_dist[j],0]] += 1\n",
    "\n",
    "    for k in range(0, len(counter)):\n",
    "        if counter[k] == max(counter):\n",
    "            max_indices.append(k)\n",
    "\n",
    "    if len(max_indices) == 1:\n",
    "        return max_indices[0]\n",
    "\n",
    "    else:\n",
    "        return 10\n",
    "   \n",
    "\n",
    "   "
   ]
  },
  {
   "cell_type": "code",
   "execution_count": 3,
   "metadata": {},
   "outputs": [
    {
     "name": "stdout",
     "output_type": "stream",
     "text": [
      "2\n"
     ]
    }
   ],
   "source": [
    "dist_list = kNN(test_array[0,1:], k = 4)\n",
    "print(dist_list)"
   ]
  },
  {
   "cell_type": "code",
   "execution_count": 4,
   "metadata": {},
   "outputs": [],
   "source": [
    "def return_label(sample):\n",
    "    return test_array[sample-1, 0]\n",
    "\n",
    "def show_digit(sample):\n",
    "    img = test_array[sample-1, 1:]\n",
    "    img.shape = (28,28)\n",
    "    plt.imshow(img, 'gray')\n"
   ]
  },
  {
   "cell_type": "code",
   "execution_count": 8,
   "metadata": {},
   "outputs": [],
   "source": [
    "\n",
    "def validation_kNN(s_size, k=5):\n",
    "    true = 0\n",
    "    false = 0\n",
    "    doppel_max = 0\n",
    "\n",
    "    for i in range(0, s_size):\n",
    "        result_kNN = kNN(test_array[i, 1:], k)\n",
    "        if result_kNN == 10:\n",
    "            doppel_max += 1\n",
    "        elif result_kNN != test_array[i, 0]:\n",
    "            false += 1\n",
    "        elif result_kNN == test_array[i, 0]:\n",
    "            true += 1\n",
    "\n",
    "    return print(f'Anzahl richtig erkannter Digits: {true}\\n\\\n",
    "Anzahl falsch erkannter Digits: {false}\\n\\\n",
    "Anzahl mit mehreren Maxima: {doppel_max}\\n\\\n",
    "\\nAnteil richtiger Vorhersagen: {(true/s_size)*100}%')\n"
   ]
  },
  {
   "cell_type": "code",
   "execution_count": 18,
   "metadata": {},
   "outputs": [
    {
     "name": "stdout",
     "output_type": "stream",
     "text": [
      "Anzahl richtig erkannter Digits: 97\n",
      "Anzahl falsch erkannter Digits: 2\n",
      "Anzahl mit mehreren Maxima: 1\n",
      "\n",
      "Anteil richtiger Vorhersagen: 97.0%\n"
     ]
    }
   ],
   "source": [
    "validation_kNN(100, k = 9)"
   ]
  }
 ],
 "metadata": {
  "interpreter": {
   "hash": "541128196ab36f0af3e9e280f838c1b088f9a4d7f344cac0adf931df1b356af5"
  },
  "kernelspec": {
   "display_name": "Python 3.9.12 ('digit_recognitoin_env')",
   "language": "python",
   "name": "python3"
  },
  "language_info": {
   "codemirror_mode": {
    "name": "ipython",
    "version": 3
   },
   "file_extension": ".py",
   "mimetype": "text/x-python",
   "name": "python",
   "nbconvert_exporter": "python",
   "pygments_lexer": "ipython3",
   "version": "3.9.12"
  },
  "orig_nbformat": 4
 },
 "nbformat": 4,
 "nbformat_minor": 2
}
