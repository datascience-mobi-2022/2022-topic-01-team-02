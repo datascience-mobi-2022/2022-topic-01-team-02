{
 "cells": [
  {
   "cell_type": "code",
   "execution_count": 38,
   "metadata": {},
   "outputs": [],
   "source": [
    "import numpy as np\n",
    "import pandas as pd\n",
    "import seaborn as sb\n",
    "import matplotlib.pyplot as plt\n",
    "from PIL import Image as im\n",
    "import Functions.PCA as pca\n",
    "import Functions.data_load as dat\n",
    "import Functions.visualization as vis\n",
    "import Functions.average_img as avg\n",
    "\n",
    "train_array, test_array = dat.load_data()\n",
    "cleaned_arr = dat.clean_train_arr()\n",
    "z_arr = pca.z_arr(cleaned_arr)\n",
    "reduced_arr = pca.arr_only(z_arr, pca.create_sorted_eigenvec(30))\n"
   ]
  },
  {
   "cell_type": "code",
   "execution_count": 39,
   "metadata": {},
   "outputs": [],
   "source": [
    "def load_jpg(file_path):\n",
    "    \"\"\"\n",
    "    loads jpg image and converts to np array (2D)\n",
    "\n",
    "    :param file_path: str of relative path\n",
    "    :return: 2D Array od image\n",
    "    \"\"\"\n",
    "    img = im.open(file_path)\n",
    "    img = img.convert('L')\n",
    "    img = np.asarray(img)\n",
    "    while img.shape[0]%28 != 0:\n",
    "        img = img[:img.shape[0]-1, :img.shape[1]-1]\n",
    "    n = img.shape[0]//28\n",
    "\n",
    "    img_arr = np.zeros((28,28))\n",
    "    for h in range(0,28):\n",
    "        for i in range(0,28):\n",
    "            value = 0\n",
    "            for j in range(0,n):\n",
    "                for k in range(0,n):\n",
    "                    value += img[j+(h*n), k+(i*n)]\n",
    "            img_arr[h,i] = value//n**2\n",
    "    img_arr = 255-img_arr\n",
    "\n",
    "\n",
    "\n",
    "    return img_arr"
   ]
  },
  {
   "cell_type": "code",
   "execution_count": 40,
   "metadata": {},
   "outputs": [
    {
     "data": {
      "text/plain": [
       "<matplotlib.image.AxesImage at 0x7fe22849b070>"
      ]
     },
     "execution_count": 40,
     "metadata": {},
     "output_type": "execute_result"
    },
    {
     "data": {
      "image/png": "[encoded data removed]",
      "text/plain": [
       "<Figure size 432x288 with 1 Axes>"
      ]
     },
     "metadata": {
      "needs_background": "light"
     },
     "output_type": "display_data"
    }
   ],
   "source": [
    "img = load_jpg('data/input2.jpg')\n",
    "plt.imshow(img, 'gray')"
   ]
  },
  {
   "cell_type": "code",
   "execution_count": null,
   "metadata": {},
   "outputs": [],
   "source": [
    "n = img.shape[0]//28\n",
    "\n",
    "img_vec = np.zeros((28,28))\n",
    "for h in range(0,28):\n",
    "    for i in range(0,28):\n",
    "        value = 0\n",
    "        for j in range(0,n):\n",
    "            for k in range(0,n):\n",
    "                value += img[j+(h*n), k+(i*n)]\n",
    "        img_vec[h,i] = value//n**2\n",
    "img_vec = 255-img_vec\n",
    "\n"
   ]
  },
  {
   "cell_type": "code",
   "execution_count": null,
   "metadata": {},
   "outputs": [],
   "source": [
    "plt.imshow(img_vec, 'gray')"
   ]
  },
  {
   "cell_type": "code",
   "execution_count": null,
   "metadata": {},
   "outputs": [],
   "source": []
  }
 ],
 "metadata": {
  "kernelspec": {
   "display_name": "Python 3.9.12 ('digit_recognitoin_env')",
   "language": "python",
   "name": "python3"
  },
  "language_info": {
   "codemirror_mode": {
    "name": "ipython",
    "version": 3
   },
   "file_extension": ".py",
   "mimetype": "text/x-python",
   "name": "python",
   "nbconvert_exporter": "python",
   "pygments_lexer": "ipython3",
   "version": "3.9.12"
  },
  "orig_nbformat": 4,
  "vscode": {
   "interpreter": {
    "hash": "541128196ab36f0af3e9e280f838c1b088f9a4d7f344cac0adf931df1b356af5"
   }
  }
 },
 "nbformat": 4,
 "nbformat_minor": 2
}
