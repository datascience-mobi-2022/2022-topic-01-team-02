{
 "cells": [
  {
   "cell_type": "code",
   "execution_count": 1,
   "metadata": {},
   "outputs": [],
   "source": [
    "import numpy as np\n",
    "import pandas as pd\n",
    "import seaborn as sb\n",
    "import matplotlib.pyplot as plt\n",
    "from PIL import Image as im\n",
    "import Functions.PCA as pca\n",
    "import Functions.data_load as dat\n",
    "import Functions.visualization as vis\n",
    "import Functions.average_img as avg\n",
    "import Functions.k_nearest as knn\n",
    "import Functions.additional_code as add\n",
    "\n",
    "train_array, test_array = dat.load_data()\n",
    "cleaned_arr = dat.clean_train_arr()\n",
    "z_arr = pca.z_arr(cleaned_arr)\n",
    "reduced_arr = pca.arr_only(z_arr, pca.create_sorted_eigenvec(30))\n"
   ]
  },
  {
   "cell_type": "code",
   "execution_count": 2,
   "metadata": {},
   "outputs": [
    {
     "data": {
      "text/plain": [
       "'Algorithm predicts that you inputed a 2'"
      ]
     },
     "execution_count": 2,
     "metadata": {},
     "output_type": "execute_result"
    }
   ],
   "source": [
    "add.load_jpg('data/input2.jpg')"
   ]
  },
  {
   "cell_type": "code",
   "execution_count": null,
   "metadata": {},
   "outputs": [],
   "source": [
    "n = img.shape[0]//28\n",
    "\n",
    "img_vec = np.zeros((28,28))\n",
    "for h in range(0,28):\n",
    "    for i in range(0,28):\n",
    "        value = 0\n",
    "        for j in range(0,n):\n",
    "            for k in range(0,n):\n",
    "                value += img[j+(h*n), k+(i*n)]\n",
    "        img_vec[h,i] = value//n**2\n",
    "img_vec = 255-img_vec\n",
    "\n"
   ]
  },
  {
   "cell_type": "code",
   "execution_count": null,
   "metadata": {},
   "outputs": [],
   "source": [
    "plt.imshow(img_vec, 'gray')"
   ]
  },
  {
   "cell_type": "code",
   "execution_count": 2,
   "metadata": {},
   "outputs": [
    {
     "data": {
      "text/plain": [
       "'Your input is a handwritten 2'"
      ]
     },
     "execution_count": 2,
     "metadata": {},
     "output_type": "execute_result"
    }
   ],
   "source": [
    "add.self_written_prediction('data/input2.jpg')"
   ]
  }
 ],
 "metadata": {
  "kernelspec": {
   "display_name": "Python 3.9.12 ('digit_recognitoin_env')",
   "language": "python",
   "name": "python3"
  },
  "language_info": {
   "codemirror_mode": {
    "name": "ipython",
    "version": 3
   },
   "file_extension": ".py",
   "mimetype": "text/x-python",
   "name": "python",
   "nbconvert_exporter": "python",
   "pygments_lexer": "ipython3",
   "version": "3.9.12"
  },
  "orig_nbformat": 4,
  "vscode": {
   "interpreter": {
    "hash": "541128196ab36f0af3e9e280f838c1b088f9a4d7f344cac0adf931df1b356af5"
   }
  }
 },
 "nbformat": 4,
 "nbformat_minor": 2
}
