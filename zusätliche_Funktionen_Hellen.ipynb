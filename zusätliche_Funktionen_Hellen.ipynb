{
 "cells": [
  {
   "cell_type": "code",
   "execution_count": 1,
   "metadata": {},
   "outputs": [],
   "source": [
    "import numpy as np\n",
    "import pandas as pd\n",
    "import seaborn as sb\n",
    "import matplotlib.pyplot as plt\n",
    "import Functions.PCA as pca\n",
    "import Functions.data_load as dat\n",
    "import Functions.visualization as vis\n",
    "import Functions.average_img as avg\n",
    "import Functions.additional_code as add\n",
    "\n",
    "train_array, test_array = dat.load_data()\n",
    "cleaned_arr = dat.clean_train_arr()\n",
    "z_arr = pca.z_arr(cleaned_arr)\n",
    "reduced_arr = pca.arr_only(z_arr, pca.create_sorted_eigenvec(30))\n",
    "train_arr_cleaned = dat.clean_train_arr()"
   ]
  },
  {
   "cell_type": "code",
   "execution_count": 2,
   "metadata": {},
   "outputs": [],
   "source": [
    "#in visualisierungs skript\n",
    "#3 Bilder Input eigenes Bild Prozess \n",
    "\n",
    "def self_written_digit():\n",
    "    img1 = add.load_add_img()\n",
    "    img2 = 255-add.convert_add_img()\n",
    "    img3 = add.convert_add_img()\n",
    "\n",
    "    fig = plt.figure(figsize=(9,3))\n",
    "    ax1 = fig.add_subplot(1,3,1)\n",
    "    ax1.imshow(img1, 'gray')\n",
    "    ax2 = fig.add_subplot(1,3,2)\n",
    "    ax2.imshow(img2, 'gray')\n",
    "    ax3 = fig.add_subplot(1,3,3)\n",
    "    ax3.imshow(img3, 'gray')"
   ]
  },
  {
   "cell_type": "code",
   "execution_count": null,
   "metadata": {},
   "outputs": [],
   "source": [
    "#in visualisierungs skript\n",
    "#Bilder vor und nach Z Transformation\n",
    "\n",
    "def digits_after_z(dataset):\n",
    "    arr = np.zeros(dataset.shape)\n",
    "    for i in range(0,3):\n",
    "        for j in range(1,dataset[:,1:].shape[1]):\n",
    "            if np.std(dataset[:,j]) != 0:\n",
    "                arr[i,j] = (dataset[i,j]-np.mean(dataset[:,j]))/np.std(dataset[:,j])\n",
    "\n",
    "    fig = plt.figure(figsize=(10,5))\n",
    "\n",
    "    for l in range(0,3):\n",
    "        ax = fig.add_subplot(2,3,l+4)\n",
    "        img = dataset[l, 1:]\n",
    "        img.shape = (28,28)\n",
    "        ax.imshow(img, 'gray')\n",
    "\n",
    "    for k in range(0,3):\n",
    "        ax = fig.add_subplot(2,3,k+1)\n",
    "        img = arr[k, 1:]\n",
    "        img.shape = (28,28)\n",
    "        ax.imshow(img, 'gray')"
   ]
  },
  {
   "cell_type": "code",
   "execution_count": 4,
   "metadata": {},
   "outputs": [],
   "source": [
    "#in visualisierungs skript\n",
    "#Bilder nach Z Transformation\n",
    "\n",
    "def digits_after_z(dataset):\n",
    "    arr = np.zeros(dataset.shape)\n",
    "    for i in range(0,3):\n",
    "        for j in range(1,dataset[:,1:].shape[1]):\n",
    "            if np.std(dataset[:,j]) != 0:\n",
    "                arr[i,j] = (dataset[i,j]-np.mean(dataset[:,j]))/np.std(dataset[:,j])\n",
    "\n",
    "    fig = plt.figure(figsize=(10,5))\n",
    "\n",
    "    for l in range(0,3):\n",
    "        ax = fig.add_subplot(2,3,l+1)\n",
    "        img = dataset[l, 1:]\n",
    "        img.shape = (28,28)\n",
    "        im = ax.imshow(img, 'gray')\n",
    "        fig.colorbar(im)\n",
    "\n",
    "    for k in range(0,3):\n",
    "        ax = fig.add_subplot(2,3,k+4)\n",
    "        img = arr[k, 1:]\n",
    "        img.shape = (28,28)\n",
    "        im = ax.imshow(img, 'gray')\n",
    "        fig.colorbar(im)\n"
   ]
  }
 ],
 "metadata": {
  "kernelspec": {
   "display_name": "Python 3.9.12 ('digit_recognitoin_env')",
   "language": "python",
   "name": "python3"
  },
  "language_info": {
   "codemirror_mode": {
    "name": "ipython",
    "version": 3
   },
   "file_extension": ".py",
   "mimetype": "text/x-python",
   "name": "python",
   "nbconvert_exporter": "python",
   "pygments_lexer": "ipython3",
   "version": "3.9.12"
  },
  "orig_nbformat": 4,
  "vscode": {
   "interpreter": {
    "hash": "541128196ab36f0af3e9e280f838c1b088f9a4d7f344cac0adf931df1b356af5"
   }
  }
 },
 "nbformat": 4,
 "nbformat_minor": 2
}
