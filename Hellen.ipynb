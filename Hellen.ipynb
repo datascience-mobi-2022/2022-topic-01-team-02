{
 "cells": [
  {
   "cell_type": "code",
   "execution_count": 2,
   "metadata": {},
   "outputs": [],
   "source": [
    "import matplotlib.pyplot as plt\n",
    "import pandas as pd\n",
    "import numpy as np\n",
    "train_digits = pd.read_csv(\"data/mnist_train.csv\")\n",
    "test_digits = pd.read_csv(\"data/mnist_test.csv\")\n",
    "#convert pandas Data Frame to Numpy Array\n",
    "train_array = train_digits.to_numpy()\n",
    "test_array = test_digits.to_numpy()"
   ]
  },
  {
   "cell_type": "code",
   "execution_count": 3,
   "metadata": {},
   "outputs": [],
   "source": [
    "def show_digit(sample):\n",
    "    \"\"\"\n",
    "    shows digit\n",
    "    \"\"\"\n",
    "    img = test_array[sample-1, 1:]\n",
    "    img.shape = (28,28)\n",
    "    plt.imshow(img, 'gray')"
   ]
  },
  {
   "cell_type": "code",
   "execution_count": 4,
   "metadata": {},
   "outputs": [],
   "source": [
    "def avg_digit_img(dat, digit):\n",
    "    \"\"\"\n",
    "    compute average intensities of all rows describing the same number\n",
    "    imshow as output\n",
    "    \"\"\"\n",
    "\n",
    "    list_digit = []\n",
    "    for i in range(0, dat.shape[0]):\n",
    "        if dat[i, 0] == digit:\n",
    "            list_digit.append(i)\n",
    "\n",
    "    avg = np.zeros((1,784))\n",
    "    \n",
    "    for j in range(0, len(list_digit)):\n",
    "        avg += dat[list_digit[j], 1:]\n",
    "    \n",
    "    avg.shape = (28,28)\n",
    "    avg /= len(list_digit)\n",
    "\n",
    "    plt.imshow(avg, 'gray')\n",
    "    plt.colorbar()\n"
   ]
  },
  {
   "cell_type": "code",
   "execution_count": 5,
   "metadata": {},
   "outputs": [],
   "source": [
    "def avg_digit_arr(dat, digit):\n",
    "    \"\"\"\n",
    "    computes average intensities of all rows describing the same number\n",
    "    returns numpy array\n",
    "    \"\"\"\n",
    "   \n",
    "    list_digit = []\n",
    "    for i in range(0, dat.shape[0]):\n",
    "        if dat[i, 0] == digit:\n",
    "            list_digit.append(i)\n",
    "\n",
    "    avg = np.zeros((1,784))\n",
    "\n",
    "    for j in range(0, len(list_digit)):\n",
    "        avg += dat[list_digit[j], 1:]\n",
    "\n",
    "    avg /= len(list_digit)\n",
    "\n",
    "    return avg"
   ]
  },
  {
   "cell_type": "code",
   "execution_count": 6,
   "metadata": {},
   "outputs": [],
   "source": [
    "def digit_recognition(sample):\n",
    "    \"\"\"\n",
    "    compare sample image with averaged images pixel by pixel\n",
    "    select digit with lowest difference in intensity (output)\n",
    "    \"\"\"\n",
    "    intensities_list = [] \n",
    "    sample_img = test_array[sample-1, 1:]\n",
    "\n",
    "    for i in range(0,10):\n",
    "        diff_arr = sample_img - avg_digit_arr(train_array, i)\n",
    "        \n",
    "        diff_list = []\n",
    "        for j in range(0, 784):\n",
    "            diff_list.append(diff_arr[0, j])\n",
    "\n",
    "        intensity_sum = 0\n",
    "        for k in range(0, len(diff_list)):\n",
    "            diff_list[k] = diff_list[k]**2\n",
    "            diff_list[k] = np.sqrt(diff_list[k])\n",
    "            intensity_sum += diff_list[k]\n",
    "\n",
    "        intensities_list.append(intensity_sum)\n",
    "\n",
    "    return intensities_list.index(min(intensities_list))"
   ]
  },
  {
   "cell_type": "code",
   "execution_count": 21,
   "metadata": {},
   "outputs": [],
   "source": [
    "def return_label(sample):\n",
    "    \"\"\"\n",
    "    can be used for validation\n",
    "    \"\"\"\n",
    "    return test_array[sample-1, 0]"
   ]
  },
  {
   "cell_type": "code",
   "execution_count": 9,
   "metadata": {},
   "outputs": [],
   "source": [
    "avg_list = []\n",
    "\n",
    "for i in range(0,10):\n",
    "    avg_list.append(avg_digit_arr(train_array, i))\n",
    "\n",
    "def digit_recognition_fast(sample):\n",
    "    \"\"\"\n",
    "    faster digit recognition because avg images are stored at the beginning and not calculated each time\n",
    "    \"\"\"\n",
    "    intensities_list = [] \n",
    "    sample_img = test_array[sample-1, 1:] \n",
    "\n",
    "    for i in range(0,10):\n",
    "        diff_arr = sample_img - avg_list[i]\n",
    "        \n",
    "        diff_list = []\n",
    "        for j in range(0, 784):\n",
    "            diff_list.append(diff_arr[0, j])\n",
    "\n",
    "        intensity_sum = 0\n",
    "        for k in range(0, len(diff_list)):\n",
    "            diff_list[k] = diff_list[k]**2\n",
    "            diff_list[k] = np.sqrt(diff_list[k])\n",
    "            intensity_sum += diff_list[k]\n",
    "\n",
    "        intensities_list.append(intensity_sum)\n",
    "\n",
    "    return intensities_list.index(min(intensities_list))"
   ]
  },
  {
   "cell_type": "code",
   "execution_count": 11,
   "metadata": {},
   "outputs": [
    {
     "name": "stdout",
     "output_type": "stream",
     "text": [
      "Anzahl richtig erkannter Digits: 1 \n",
      "Anzahl falsch erkannter Digits: 0 \n",
      "Richtig: 0.010001000100010001 Prozent\n"
     ]
    }
   ],
   "source": [
    "#Überprüfung digit recognition mit methode vergleich zu avg images\n",
    "\n",
    "true = 0\n",
    "false = 0\n",
    "\n",
    "#for i in range(0, test_array.shape[0]):\n",
    "if digit_recognition_fast(i+1) == test_array[i, 0]:\n",
    "    true += 1\n",
    "else:\n",
    "    false += 1\n",
    "\n",
    "print(f'Anzahl richtig erkannter Digits: {true} \\n\\\n",
    "Anzahl falsch erkannter Digits: {false} \\n\\\n",
    "Richtig: {true/test_array.shape[0]*100} Prozent')\n",
    "#66,85 Prozent"
   ]
  },
  {
   "cell_type": "code",
   "execution_count": 12,
   "metadata": {},
   "outputs": [],
   "source": [
    "#plots for project proposal\n",
    "\n",
    "#plt.hist(train_array[:,0], rwidth = 0.9)\n",
    "#plt.xlabel('digits')\n",
    "#plt.ylabel('counts')\n",
    "#plt.title('training dataset')\n"
   ]
  },
  {
   "cell_type": "code",
   "execution_count": 13,
   "metadata": {},
   "outputs": [],
   "source": [
    "def digit_rec_comp(sample):\n",
    "    \"\"\"\n",
    "    nice output for digit recognition comparison\n",
    "    \"\"\"\n",
    "    \n",
    "    print(f'Prediction: {digit_recognition(sample)}\\n\\\n",
    "Real digit: {return_label(sample)}')\n",
    "    show_digit(sample)"
   ]
  },
  {
   "cell_type": "code",
   "execution_count": 14,
   "metadata": {},
   "outputs": [],
   "source": [
    "#Z-Transformation\n",
    "#Druchschnittsberechnung\n",
    "\n",
    "mean_pixels = np.zeros((1, 784))\n",
    "for i in range(0, train_array.shape[0]):\n",
    "    mean_pixels += train_array[i, 1:train_array.shape[1]]\n",
    "mean_pixels /= train_array.shape[0]\n",
    "\n",
    "#Standardabweichung\n",
    "std_pixels = np.zeros((1, 784))\n",
    "for i in range(1, train_array.shape[1]):\n",
    "    std_pixels[0, i-1] = np.std(train_array[:, i])\n",
    "\n",
    "#print(std_pixels)\n",
    "\n",
    "#Erstellen z-array\n",
    "z_array = np.zeros(train_array.shape)\n",
    "\n",
    "for i in range(0, train_array.shape[0]):\n",
    "    z_array[i, 0] = train_array[i, 0]\n",
    "    for j in range(1, train_array.shape[1]):\n",
    "        if std_pixels[0, j-1] != 0:\n",
    "            z_array[i, j] = (train_array[i, j] - mean_pixels[0, j-1])/std_pixels[0, j-1]\n",
    "\n",
    "#print(z_array)\n"
   ]
  },
  {
   "cell_type": "code",
   "execution_count": null,
   "metadata": {},
   "outputs": [],
   "source": [
    "def kNN(img, k=5):\n",
    "    counter = [0,0,0,0,0,0,0,0,0,0]\n",
    "    max_indices = []\n",
    "\n",
    "    M = 1\n",
    "    N = train_array[:, 1:].shape[0]\n",
    "\n",
    "    img_dots = (img*img).sum(axis=0).reshape((M,1))*np.ones(shape=(1,N))\n",
    "    train_array_dots = (train_array[:, 1:]*train_array[:, 1:]).sum(axis=1)*np.ones(shape=(M,1))\n",
    "    D_squared =  img_dots + train_array_dots - 2*img.dot(train_array[:, 1:].T)\n",
    "    D = np.sqrt(D_squared)\n",
    "    \n",
    "    dist_mau = D.tolist()\n",
    "    dist = dist_mau[0]\n",
    "    small_dist = sorted(range(len(dist)), key = lambda sub: dist[sub])[:k]\n",
    "    \n",
    "    for j in range(0, len(small_dist)):\n",
    "        counter[train_array[small_dist[j],0]] += 1\n",
    "\n",
    "    for k in range(0, len(counter)):\n",
    "        if counter[k] == max(counter):\n",
    "            max_indices.append(k)\n",
    "\n",
    "    if len(max_indices) == 1:\n",
    "        return max_indices[0]\n",
    "\n",
    "    else:\n",
    "        return 10"
   ]
  },
  {
   "cell_type": "code",
   "execution_count": null,
   "metadata": {},
   "outputs": [],
   "source": [
    "def validation_kNN(s_size, k=5):\n",
    "    true = 0\n",
    "    false = 0\n",
    "    doppel_max = 0\n",
    "\n",
    "    for i in range(0, s_size):\n",
    "        result_kNN = kNN(test_array[i, 1:], k)\n",
    "        if result_kNN == 10:\n",
    "            doppel_max += 1\n",
    "        elif result_kNN != test_array[i, 0]:\n",
    "            false += 1\n",
    "        elif result_kNN == test_array[i, 0]:\n",
    "            true += 1\n",
    "\n",
    "    return print(f'Anzahl richtig erkannter Digits: {true}\\n\\\n",
    "Anzahl falsch erkannter Digits: {false}\\n\\\n",
    "Anzahl mit mehreren Maxima: {doppel_max}\\n\\\n",
    "\\nAnteil richtiger Vorhersagen: {(true/s_size)*100}%')\n"
   ]
  }
 ],
 "metadata": {
  "interpreter": {
   "hash": "541128196ab36f0af3e9e280f838c1b088f9a4d7f344cac0adf931df1b356af5"
  },
  "kernelspec": {
   "display_name": "Python 3.9.12 ('digit_recognitoin_env')",
   "language": "python",
   "name": "python3"
  },
  "language_info": {
   "codemirror_mode": {
    "name": "ipython",
    "version": 3
   },
   "file_extension": ".py",
   "mimetype": "text/x-python",
   "name": "python",
   "nbconvert_exporter": "python",
   "pygments_lexer": "ipython3",
   "version": "3.9.12"
  },
  "orig_nbformat": 4
 },
 "nbformat": 4,
 "nbformat_minor": 2
}
