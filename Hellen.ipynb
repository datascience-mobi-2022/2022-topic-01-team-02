{
 "cells": [
  {
   "cell_type": "code",
   "execution_count": 1,
   "metadata": {},
   "outputs": [
    {
     "data": {
      "text/plain": [
       "(9999, 785)"
      ]
     },
     "execution_count": 1,
     "metadata": {},
     "output_type": "execute_result"
    }
   ],
   "source": [
    "import matplotlib.pyplot as plt\n",
    "import pandas as pd\n",
    "import numpy as np\n",
    "train_digits = pd.read_csv(\"data/mnist_train.csv\")\n",
    "test_digits = pd.read_csv(\"data/mnist_test.csv\")\n",
    "test_digits.shape"
   ]
  },
  {
   "cell_type": "code",
   "execution_count": 2,
   "metadata": {},
   "outputs": [
    {
     "data": {
      "text/plain": [
       "(59999, 785)"
      ]
     },
     "execution_count": 2,
     "metadata": {},
     "output_type": "execute_result"
    }
   ],
   "source": [
    "#convert pandas Data Frame to Numpy Array\n",
    "train_array = train_digits.to_numpy()\n",
    "test_array = test_digits.to_numpy()\n",
    "# Datensatz hat 59999 Zeilen\n",
    "train_array.shape\n"
   ]
  },
  {
   "cell_type": "code",
   "execution_count": 3,
   "metadata": {},
   "outputs": [],
   "source": [
    "#show image \n",
    "def show_digit(sample):\n",
    "    img = test_array[sample-1, 1:]\n",
    "    img.shape = (28,28)\n",
    "    plt.imshow(img, 'gray')"
   ]
  },
  {
   "cell_type": "code",
   "execution_count": 4,
   "metadata": {},
   "outputs": [],
   "source": [
    "#compute average intensities of all rows describing the same number\n",
    "#imshow as output\n",
    "def avg_digit_img(dat, digit):\n",
    "\n",
    "    #create list with rowindex for given digit\n",
    "    list_digit = []\n",
    "    for i in range(0, dat.shape[0]):\n",
    "        if dat[i, 0] == digit:\n",
    "            list_digit.append(i)\n",
    "\n",
    "    #create np array filled with zeros in shape flat image\n",
    "    avg = np.zeros((1,784))\n",
    "    \n",
    "    #sum up intensities from all selected images for every pixel\n",
    "    for j in range(0, len(list_digit)):\n",
    "        avg += dat[list_digit[j], 1:]\n",
    "    #shape image\n",
    "    avg.shape = (28,28)\n",
    "    #divide by number of selected pictures for average intensity value\n",
    "    avg /= len(list_digit)\n",
    "\n",
    "    #show image and colorbar\n",
    "    plt.imshow(avg, 'gray')\n",
    "    plt.colorbar()\n"
   ]
  },
  {
   "cell_type": "code",
   "execution_count": 5,
   "metadata": {},
   "outputs": [
    {
     "data": {
      "image/png": "[encoded data removed]",
      "text/plain": [
       "<Figure size 432x288 with 2 Axes>"
      ]
     },
     "metadata": {
      "needs_background": "light"
     },
     "output_type": "display_data"
    }
   ],
   "source": [
    "#use function avg_digit_img to look at average image of digit 2\n",
    "avg_digit_img(train_array, 3)"
   ]
  },
  {
   "cell_type": "code",
   "execution_count": 5,
   "metadata": {},
   "outputs": [],
   "source": [
    "#computes average intensities of all rows describing the same number\n",
    "#returns numpy array\n",
    "def avg_digit_arr(dat, digit):\n",
    "\n",
    "    #create list with rowindex for given digit\n",
    "    list_digit = []\n",
    "    for i in range(0, dat.shape[0]):\n",
    "        if dat[i, 0] == digit:\n",
    "            list_digit.append(i)\n",
    "\n",
    "    #create np array filled with zeros in shape flat image\n",
    "    avg = np.zeros((1,784))\n",
    "\n",
    "    #sum up intensities from all selected images for every pixel\n",
    "    for j in range(0, len(list_digit)):\n",
    "        avg += dat[list_digit[j], 1:]\n",
    "\n",
    "    #divide by number of selected pictures for average intensity value\n",
    "    avg /= len(list_digit)\n",
    "\n",
    "    #return 1 dimensional array\n",
    "    return avg"
   ]
  },
  {
   "cell_type": "code",
   "execution_count": 6,
   "metadata": {},
   "outputs": [
    {
     "data": {
      "text/plain": [
       "array([[0.00000000e+00, 0.00000000e+00, 0.00000000e+00, 0.00000000e+00,\n",
       "        0.00000000e+00, 0.00000000e+00, 0.00000000e+00, 0.00000000e+00,\n",
       "        0.00000000e+00, 0.00000000e+00, 0.00000000e+00, 0.00000000e+00,\n",
       "        0.00000000e+00, 0.00000000e+00, 0.00000000e+00, 0.00000000e+00,\n",
       "        0.00000000e+00, 0.00000000e+00, 0.00000000e+00, 0.00000000e+00,\n",
       "        0.00000000e+00, 0.00000000e+00, 0.00000000e+00, 0.00000000e+00,\n",
       "        0.00000000e+00, 0.00000000e+00, 0.00000000e+00, 0.00000000e+00,\n",
       "        0.00000000e+00, 0.00000000e+00, 0.00000000e+00, 0.00000000e+00,\n",
       "        0.00000000e+00, 0.00000000e+00, 0.00000000e+00, 0.00000000e+00,\n",
       "        0.00000000e+00, 0.00000000e+00, 0.00000000e+00, 0.00000000e+00,\n",
       "        0.00000000e+00, 0.00000000e+00, 4.62770691e-02, 7.53485613e-02,\n",
       "        1.05309997e-02, 0.00000000e+00, 0.00000000e+00, 0.00000000e+00,\n",
       "        0.00000000e+00, 0.00000000e+00, 0.00000000e+00, 0.00000000e+00,\n",
       "        0.00000000e+00, 0.00000000e+00, 0.00000000e+00, 0.00000000e+00,\n",
       "        0.00000000e+00, 0.00000000e+00, 0.00000000e+00, 0.00000000e+00,\n",
       "        0.00000000e+00, 0.00000000e+00, 0.00000000e+00, 0.00000000e+00,\n",
       "        0.00000000e+00, 0.00000000e+00, 1.27558588e-02, 2.52150697e-02,\n",
       "        4.58320973e-02, 1.72797389e-01, 2.97834470e-01, 4.07890834e-01,\n",
       "        2.42806289e-01, 7.13438149e-02, 2.66983091e-02, 3.75259567e-02,\n",
       "        8.89943637e-03, 0.00000000e+00, 0.00000000e+00, 0.00000000e+00,\n",
       "        0.00000000e+00, 0.00000000e+00, 0.00000000e+00, 0.00000000e+00,\n",
       "        0.00000000e+00, 0.00000000e+00, 6.22960546e-03, 1.48323939e-03,\n",
       "        0.00000000e+00, 0.00000000e+00, 0.00000000e+00, 4.30139425e-03,\n",
       "        4.89469000e-03, 5.84396322e-02, 1.12874518e-01, 2.02165530e-01,\n",
       "        4.41560368e-01, 1.28315040e+00, 1.81741323e+00, 1.97775141e+00,\n",
       "        1.62014239e+00, 1.32898250e+00, 1.01868882e+00, 7.49184218e-01,\n",
       "        4.25838030e-01, 2.60160190e-01, 1.29486799e-01, 2.16552952e-02,\n",
       "        0.00000000e+00, 0.00000000e+00, 0.00000000e+00, 0.00000000e+00,\n",
       "        0.00000000e+00, 0.00000000e+00, 2.13586473e-02, 5.19133788e-03,\n",
       "        9.78938001e-03, 4.50904776e-02, 6.06644912e-02, 7.99466034e-02,\n",
       "        2.15069712e-01, 5.80836547e-01, 1.89869475e+00, 5.35568081e+00,\n",
       "        1.39980718e+01, 2.71692376e+01, 3.93111836e+01, 4.47417680e+01,\n",
       "        4.38125185e+01, 4.13666568e+01, 3.51196974e+01, 2.83791160e+01,\n",
       "        1.88332839e+01, 9.83209730e+00, 4.04850193e+00, 1.25304064e+00,\n",
       "        2.65203204e-01, 0.00000000e+00, 0.00000000e+00, 0.00000000e+00,\n",
       "        0.00000000e+00, 0.00000000e+00, 1.42390982e-02, 3.58943934e-02,\n",
       "        4.62770691e-02, 1.28893503e-01, 2.02165530e-01, 2.67279739e-01,\n",
       "        4.48976565e-01, 1.08558291e+00, 3.60249184e+00, 1.05574014e+01,\n",
       "        2.67211510e+01, 5.22180362e+01, 7.58862355e+01, 8.86796203e+01,\n",
       "        8.86591516e+01, 8.11729457e+01, 6.82407298e+01, 5.15987837e+01,\n",
       "        3.39805696e+01, 1.77917532e+01, 7.32453278e+00, 2.55206170e+00,\n",
       "        6.48472263e-01, 8.75111243e-03, 7.86116879e-03, 0.00000000e+00,\n",
       "        0.00000000e+00, 0.00000000e+00, 2.81815485e-03, 4.93918718e-02,\n",
       "        5.33966182e-02, 1.07089884e-01, 2.13141501e-01, 3.93651735e-01,\n",
       "        6.71907446e-01, 1.33625037e+00, 4.00133492e+00, 1.21745773e+01,\n",
       "        3.10720854e+01, 6.25087511e+01, 9.39454168e+01, 1.11919757e+02,\n",
       "        1.11991842e+02, 9.96449125e+01, 8.14537229e+01, 5.72988727e+01,\n",
       "        3.48043607e+01, 1.69077425e+01, 6.63883121e+00, 2.22322753e+00,\n",
       "        5.55918125e-01, 1.33491546e-03, 0.00000000e+00, 0.00000000e+00,\n",
       "        0.00000000e+00, 0.00000000e+00, 1.06793236e-02, 1.70572530e-02,\n",
       "        5.91812519e-02, 8.60278849e-02, 1.78285375e-01, 4.56837734e-01,\n",
       "        7.44734500e-01, 1.41797686e+00, 3.68199347e+00, 1.13206764e+01,\n",
       "        3.15706022e+01, 6.77002373e+01, 1.05904331e+02, 1.29472263e+02,\n",
       "        1.28085435e+02, 1.09337585e+02, 8.13509344e+01, 5.22935331e+01,\n",
       "        2.75870662e+01, 1.20142391e+01, 4.38356571e+00, 1.34440819e+00,\n",
       "        3.16226639e-01, 2.81815485e-03, 4.89469000e-03, 0.00000000e+00,\n",
       "        0.00000000e+00, 0.00000000e+00, 2.52150697e-03, 1.66122812e-02,\n",
       "        4.92435479e-02, 7.28270543e-02, 2.28418867e-01, 4.86502522e-01,\n",
       "        7.31533670e-01, 1.36013053e+00, 3.08825274e+00, 9.94867992e+00,\n",
       "        3.05226936e+01, 7.19983684e+01, 1.19947197e+02, 1.49651735e+02,\n",
       "        1.42319935e+02, 1.11749333e+02, 7.39737467e+01, 4.03273509e+01,\n",
       "        1.73371403e+01, 6.49569861e+00, 2.01320083e+00, 6.03381786e-01,\n",
       "        1.41946010e-01, 0.00000000e+00, 0.00000000e+00, 0.00000000e+00,\n",
       "        0.00000000e+00, 1.20142391e-02, 0.00000000e+00, 6.37792940e-03,\n",
       "        3.33728864e-02, 9.27024622e-02, 2.58973598e-01, 5.20468704e-01,\n",
       "        8.11480273e-01, 1.37970929e+00, 2.98694749e+00, 8.85642243e+00,\n",
       "        2.96944527e+01, 7.75753486e+01, 1.37759715e+02, 1.72692673e+02,\n",
       "        1.53177247e+02, 1.05655295e+02, 6.02134381e+01, 2.68264610e+01,\n",
       "        9.16597449e+00, 2.63452981e+00, 7.97092851e-01, 2.61050133e-01,\n",
       "        7.99466034e-02, 9.64105607e-03, 9.34440819e-03, 0.00000000e+00,\n",
       "        0.00000000e+00, 1.97270840e-02, 0.00000000e+00, 0.00000000e+00,\n",
       "        4.12340552e-02, 6.25927025e-02, 1.79768615e-01, 4.20053397e-01,\n",
       "        7.48887570e-01, 1.39261347e+00, 3.10708988e+00, 7.93132602e+00,\n",
       "        2.89568377e+01, 8.57635716e+01, 1.62396618e+02, 1.96839958e+02,\n",
       "        1.55067636e+02, 9.12238208e+01, 4.16311184e+01, 1.43685850e+01,\n",
       "        3.56956393e+00, 8.70364877e-01, 3.30614061e-01, 1.17769208e-01,\n",
       "        4.30139425e-03, 3.69326609e-02, 2.56600415e-02, 5.63630970e-03,\n",
       "        0.00000000e+00, 9.19608425e-03, 5.63630970e-03, 1.70572530e-02,\n",
       "        7.71284485e-02, 8.35063779e-02, 1.10797983e-01, 2.75585880e-01,\n",
       "        6.12132898e-01, 1.33803026e+00, 2.97849303e+00, 7.04716701e+00,\n",
       "        2.90083061e+01, 1.00431474e+02, 1.93780926e+02, 2.14026402e+02,\n",
       "        1.46759864e+02, 6.90332246e+01, 2.38752596e+01, 5.94200534e+00,\n",
       "        1.14046277e+00, 3.72738060e-01, 1.73094037e-01, 1.00711955e-01,\n",
       "        1.17175912e-02, 4.70186888e-02, 2.28418867e-02, 1.34974785e-02,\n",
       "        0.00000000e+00, 0.00000000e+00, 1.92821121e-03, 3.69326609e-02,\n",
       "        7.59418570e-02, 3.66360131e-02, 1.04420053e-01, 2.47552655e-01,\n",
       "        6.51290418e-01, 1.44482349e+00, 2.71417977e+00, 6.32631267e+00,\n",
       "        3.16168793e+01, 1.25554880e+02, 2.24136310e+02, 2.19260902e+02,\n",
       "        1.28029368e+02, 4.42371700e+01, 1.03423317e+01, 1.81237022e+00,\n",
       "        4.10857312e-01, 2.84633640e-01, 9.52239691e-02, 4.93918718e-02,\n",
       "        5.04301394e-03, 1.75022249e-02, 2.66983091e-03, 1.63156333e-02,\n",
       "        4.74636606e-03, 0.00000000e+00, 1.03826758e-03, 2.96647879e-02,\n",
       "        7.90566597e-02, 2.98131118e-02, 8.14298428e-02, 1.93562741e-01,\n",
       "        6.45654109e-01, 1.24043311e+00, 2.14713735e+00, 6.63527143e+00,\n",
       "        4.20200237e+01, 1.61532335e+02, 2.41742658e+02, 2.13631860e+02,\n",
       "        9.91692376e+01, 2.24231682e+01, 3.39691486e+00, 5.52210027e-01,\n",
       "        1.99644023e-01, 1.83180065e-01, 4.83536043e-02, 2.49184218e-02,\n",
       "        7.41619697e-04, 1.49807179e-02, 2.07653515e-03, 0.00000000e+00,\n",
       "        0.00000000e+00, 0.00000000e+00, 1.63156333e-03, 3.81192524e-02,\n",
       "        5.29516464e-02, 3.96024918e-02, 4.56837734e-02, 1.22812222e-01,\n",
       "        6.04420053e-01, 1.17101750e+00, 2.30243251e+00, 1.05391575e+01,\n",
       "        6.50717888e+01, 1.93587659e+02, 2.46300208e+02, 1.96273806e+02,\n",
       "        6.68926135e+01, 9.74859092e+00, 1.19237615e+00, 2.68318007e-01,\n",
       "        1.45357461e-01, 1.80213586e-01, 7.69801246e-02, 2.84781964e-02,\n",
       "        2.84781964e-02, 6.97122516e-03, 3.70809849e-03, 0.00000000e+00,\n",
       "        0.00000000e+00, 0.00000000e+00, 1.40907743e-02, 3.02580837e-02,\n",
       "        2.72916049e-02, 1.67606052e-02, 1.14209433e-02, 2.00088994e-01,\n",
       "        5.63630970e-01, 1.20661525e+00, 4.24784930e+00, 2.32635716e+01,\n",
       "        9.75756452e+01, 2.10781815e+02, 2.41704984e+02, 1.65651587e+02,\n",
       "        4.33679917e+01, 4.98561258e+00, 6.33936517e-01, 1.74280629e-01,\n",
       "        9.13675467e-02, 1.75467220e-01, 8.18748146e-02, 8.15781667e-03,\n",
       "        8.15781667e-03, 2.81815485e-03, 1.48323939e-03, 0.00000000e+00,\n",
       "        0.00000000e+00, 5.78463364e-03, 2.22485909e-02, 7.41619697e-04,\n",
       "        1.94304361e-02, 4.65737170e-02, 8.85493919e-02, 2.22930881e-01,\n",
       "        6.23553842e-01, 2.52521507e+00, 1.16490656e+01, 4.59228716e+01,\n",
       "        1.26004153e+02, 2.14890834e+02, 2.24131415e+02, 1.30406704e+02,\n",
       "        3.24746366e+01, 4.31548502e+00, 7.08098487e-01, 3.11035301e-01,\n",
       "        1.51883714e-01, 1.90596262e-01, 8.98843073e-02, 3.11480273e-02,\n",
       "        6.05161673e-02, 9.04776031e-03, 2.16552952e-02, 0.00000000e+00,\n",
       "        0.00000000e+00, 1.88371403e-02, 6.52625334e-03, 0.00000000e+00,\n",
       "        2.21002670e-02, 7.52002373e-02, 1.57075052e-01, 3.57015722e-01,\n",
       "        1.68584990e+00, 7.12177395e+00, 2.65872145e+01, 7.22494809e+01,\n",
       "        1.44455354e+02, 2.08379264e+02, 1.93726342e+02, 1.03879413e+02,\n",
       "        2.92411747e+01, 5.28863839e+00, 1.28522694e+00, 6.96825868e-01,\n",
       "        4.17235242e-01, 3.34173836e-01, 2.65499852e-01, 1.62266390e-01,\n",
       "        1.41501038e-01, 5.20617028e-02, 3.54494215e-02, 1.18659152e-03,\n",
       "        4.44971818e-04, 3.55977455e-03, 7.41619697e-04, 0.00000000e+00,\n",
       "        0.00000000e+00, 6.82290122e-02, 2.44882824e-01, 1.19252447e+00,\n",
       "        4.79575794e+00, 1.68771878e+01, 4.53273509e+01, 9.38343222e+01,\n",
       "        1.51168051e+02, 1.90899733e+02, 1.62827648e+02, 8.98444082e+01,\n",
       "        3.06591516e+01, 7.42568971e+00, 2.34025512e+00, 1.30747553e+00,\n",
       "        9.72115099e-01, 6.53663601e-01, 4.34440819e-01, 2.54820528e-01,\n",
       "        1.74132305e-01, 9.52239691e-02, 5.10234352e-02, 3.57460694e-02,\n",
       "        2.22485909e-03, 1.21625630e-02, 5.63630970e-03, 2.23969149e-02,\n",
       "        1.76505488e-02, 1.33491546e-01, 1.06481756e+00, 3.76194008e+00,\n",
       "        1.18892020e+01, 3.10269950e+01, 6.46334915e+01, 1.08084248e+02,\n",
       "        1.48341145e+02, 1.67641501e+02, 1.38800653e+02, 8.29148621e+01,\n",
       "        3.43211213e+01, 1.02631267e+01, 3.79709285e+00, 2.24488282e+00,\n",
       "        1.42420647e+00, 9.32512608e-01, 5.64965885e-01, 3.45446455e-01,\n",
       "        2.24710768e-01, 1.07979828e-01, 3.23346188e-02, 2.38801543e-02,\n",
       "        0.00000000e+00, 0.00000000e+00, 1.33491546e-03, 1.55740136e-02,\n",
       "        9.22574904e-02, 6.92227826e-01, 3.02625334e+00, 8.61213290e+00,\n",
       "        2.20078612e+01, 4.66983091e+01, 8.02945713e+01, 1.14118511e+02,\n",
       "        1.38428953e+02, 1.45913824e+02, 1.22927915e+02, 7.99645506e+01,\n",
       "        3.85734204e+01, 1.41008603e+01, 5.81251854e+00, 3.05695639e+00,\n",
       "        1.77069119e+00, 1.01720558e+00, 5.52506675e-01, 2.74102640e-01,\n",
       "        2.05280332e-01, 9.29991101e-02, 2.81815485e-02, 7.56452091e-03,\n",
       "        4.74636606e-03, 1.48323939e-03, 1.12726194e-02, 5.90329279e-02,\n",
       "        3.52862652e-01, 1.97256007e+00, 5.97938297e+00, 1.42576387e+01,\n",
       "        3.20697123e+01, 5.84884307e+01, 8.79759715e+01, 1.11976120e+02,\n",
       "        1.24813557e+02, 1.27045832e+02, 1.11564818e+02, 7.86690893e+01,\n",
       "        4.25955206e+01, 1.73184515e+01, 6.78967665e+00, 3.30910709e+00,\n",
       "        1.73331356e+00, 9.09819045e-01, 2.91011569e-01, 1.44170869e-01,\n",
       "        1.62414714e-01, 6.74873925e-02, 3.29279146e-02, 0.00000000e+00,\n",
       "        4.59804212e-03, 1.48323939e-03, 1.11242955e-02, 3.81192524e-02,\n",
       "        5.22841887e-01, 2.99466034e+00, 7.76194008e+00, 1.80658558e+01,\n",
       "        3.75956689e+01, 6.23053990e+01, 8.62030555e+01, 1.01105903e+02,\n",
       "        1.07769653e+02, 1.08147137e+02, 9.99455651e+01, 7.42175912e+01,\n",
       "        4.26867398e+01, 1.84015129e+01, 6.71165826e+00, 2.67991694e+00,\n",
       "        1.27350934e+00, 5.55324829e-01, 1.29931771e-01, 5.48798576e-02,\n",
       "        2.56600415e-02, 5.17650549e-02, 3.73776327e-02, 0.00000000e+00,\n",
       "        0.00000000e+00, 0.00000000e+00, 0.00000000e+00, 1.77988727e-03,\n",
       "        5.25066746e-01, 2.64224266e+00, 6.93622071e+00, 1.59417087e+01,\n",
       "        3.21498072e+01, 5.19038861e+01, 6.81606348e+01, 7.65614061e+01,\n",
       "        7.89743400e+01, 7.95283299e+01, 7.53681400e+01, 5.73650252e+01,\n",
       "        3.24047760e+01, 1.29844260e+01, 3.85642243e+00, 1.41174726e+00,\n",
       "        6.58854939e-01, 2.59715218e-01, 1.00563631e-01, 1.76505488e-02,\n",
       "        4.87985761e-02, 3.85642243e-02, 4.30139425e-02, 0.00000000e+00,\n",
       "        0.00000000e+00, 0.00000000e+00, 0.00000000e+00, 1.48323939e-04,\n",
       "        1.26965292e-01, 8.20083061e-01, 2.04761198e+00, 4.36220706e+00,\n",
       "        8.20617028e+00, 1.36263720e+01, 1.80849896e+01, 2.00066746e+01,\n",
       "        2.05198754e+01, 2.19936221e+01, 2.15916642e+01, 1.55013349e+01,\n",
       "        7.76876298e+00, 2.77914565e+00, 8.13705132e-01, 3.28685850e-01,\n",
       "        1.11391279e-01, 1.02046870e-01, 3.11480273e-02, 2.65499852e-02,\n",
       "        0.00000000e+00, 1.54256897e-02, 2.66983091e-03, 0.00000000e+00,\n",
       "        0.00000000e+00, 0.00000000e+00, 0.00000000e+00, 0.00000000e+00,\n",
       "        0.00000000e+00, 1.21625630e-02, 3.45594779e-02, 7.87600119e-02,\n",
       "        2.42212993e-01, 3.21714625e-01, 3.01097597e-01, 3.62948680e-01,\n",
       "        6.05458321e-01, 9.61584100e-01, 9.37555621e-01, 3.16226639e-01,\n",
       "        1.29190151e-01, 4.19756749e-02, 0.00000000e+00, 0.00000000e+00,\n",
       "        0.00000000e+00, 0.00000000e+00, 0.00000000e+00, 0.00000000e+00,\n",
       "        0.00000000e+00, 0.00000000e+00, 0.00000000e+00, 0.00000000e+00,\n",
       "        0.00000000e+00, 0.00000000e+00, 0.00000000e+00, 0.00000000e+00,\n",
       "        0.00000000e+00, 0.00000000e+00, 0.00000000e+00, 0.00000000e+00,\n",
       "        0.00000000e+00, 0.00000000e+00, 1.09759715e-02, 6.22960546e-03,\n",
       "        0.00000000e+00, 0.00000000e+00, 9.49273213e-03, 2.83298724e-02,\n",
       "        9.49273213e-03, 0.00000000e+00, 0.00000000e+00, 0.00000000e+00,\n",
       "        0.00000000e+00, 0.00000000e+00, 0.00000000e+00, 0.00000000e+00,\n",
       "        0.00000000e+00, 0.00000000e+00, 0.00000000e+00, 0.00000000e+00,\n",
       "        0.00000000e+00, 0.00000000e+00, 0.00000000e+00, 0.00000000e+00,\n",
       "        0.00000000e+00, 0.00000000e+00, 0.00000000e+00, 0.00000000e+00,\n",
       "        0.00000000e+00, 0.00000000e+00, 0.00000000e+00, 0.00000000e+00,\n",
       "        0.00000000e+00, 0.00000000e+00, 0.00000000e+00, 0.00000000e+00,\n",
       "        0.00000000e+00, 0.00000000e+00, 0.00000000e+00, 0.00000000e+00,\n",
       "        0.00000000e+00, 0.00000000e+00, 0.00000000e+00, 0.00000000e+00,\n",
       "        0.00000000e+00, 0.00000000e+00, 0.00000000e+00, 0.00000000e+00]])"
      ]
     },
     "execution_count": 6,
     "metadata": {},
     "output_type": "execute_result"
    }
   ],
   "source": [
    "#use function avg_digit_arr to look at array of average image of all ones\n",
    "avg_digit_arr(train_array, 1)"
   ]
  },
  {
   "cell_type": "code",
   "execution_count": 7,
   "metadata": {},
   "outputs": [],
   "source": [
    "#compare sample image with averaged images pixel by pixel\n",
    "#select digit with lowest difference in intensity (output)\n",
    "def digit_recognition(sample):\n",
    "\n",
    "    intensities_list = [] #will be filled with average intensity differences for each digit \n",
    "    sample_img = test_array[sample-1, 1:] #create array with intensity values of sample\n",
    "\n",
    "    #subtract avg array from sample array and store as difference array (diff_arr)\n",
    "    for i in range(0,10):\n",
    "        diff_arr = sample_img - avg_digit_arr(train_array, i)\n",
    "        \n",
    "        #turn difference array to difference list\n",
    "        diff_list = []\n",
    "        for j in range(0, 784):\n",
    "            diff_list.append(diff_arr[0, j])\n",
    "\n",
    "        #sum all absolute values of difference list and assign to variable intensity_sum\n",
    "        intensity_sum = 0\n",
    "        for k in range(0, len(diff_list)):\n",
    "            diff_list[k] = diff_list[k]**2\n",
    "            diff_list[k] = np.sqrt(diff_list[k])\n",
    "            intensity_sum += diff_list[k]\n",
    "\n",
    "        #append intensities_list by intensity sum\n",
    "        #at the end of for loop, intensites_list contains 1 value for each of the 10 digits\n",
    "        intensities_list.append(intensity_sum)\n",
    "\n",
    "    #select smallest value and return as output\n",
    "    return intensities_list.index(min(intensities_list))"
   ]
  },
  {
   "cell_type": "code",
   "execution_count": 11,
   "metadata": {},
   "outputs": [
    {
     "name": "stdout",
     "output_type": "stream",
     "text": [
      "0\n",
      "0\n"
     ]
    },
    {
     "data": {
      "image/png": "[encoded data removed]",
      "text/plain": [
       "<Figure size 432x288 with 1 Axes>"
      ]
     },
     "metadata": {
      "needs_background": "light"
     },
     "output_type": "display_data"
    }
   ],
   "source": [
    "#try out digit_recognition function\n",
    "print(f'Prediction: {digit_recognition(10)}\\n\\\n",
    "Real digit: {return_label(10)}')\n"
   ]
  },
  {
   "cell_type": "code",
   "execution_count": 12,
   "metadata": {},
   "outputs": [
    {
     "ename": "KeyboardInterrupt",
     "evalue": "",
     "output_type": "error",
     "traceback": [
      "\u001b[0;31m---------------------------------------------------------------------------\u001b[0m",
      "\u001b[0;31mKeyboardInterrupt\u001b[0m                         Traceback (most recent call last)",
      "\u001b[1;32m/Users/H/2022-topic-01-team-02/Hellen.ipynb Cell 11'\u001b[0m in \u001b[0;36m<cell line: 6>\u001b[0;34m()\u001b[0m\n\u001b[1;32m      <a href='vscode-notebook-cell:/Users/H/2022-topic-01-team-02/Hellen.ipynb#ch0000009?line=3'>4</a>\u001b[0m false \u001b[39m=\u001b[39m \u001b[39m0\u001b[39m\n\u001b[1;32m      <a href='vscode-notebook-cell:/Users/H/2022-topic-01-team-02/Hellen.ipynb#ch0000009?line=5'>6</a>\u001b[0m \u001b[39mfor\u001b[39;00m i \u001b[39min\u001b[39;00m \u001b[39mrange\u001b[39m(\u001b[39m0\u001b[39m, test_array\u001b[39m.\u001b[39mshape[\u001b[39m0\u001b[39m]):\n\u001b[0;32m----> <a href='vscode-notebook-cell:/Users/H/2022-topic-01-team-02/Hellen.ipynb#ch0000009?line=6'>7</a>\u001b[0m     \u001b[39mif\u001b[39;00m digit_recognition(i\u001b[39m+\u001b[39;49m\u001b[39m1\u001b[39;49m) \u001b[39m==\u001b[39m test_array[i, \u001b[39m0\u001b[39m]:\n\u001b[1;32m      <a href='vscode-notebook-cell:/Users/H/2022-topic-01-team-02/Hellen.ipynb#ch0000009?line=7'>8</a>\u001b[0m         true \u001b[39m+\u001b[39m\u001b[39m=\u001b[39m \u001b[39m1\u001b[39m\n\u001b[1;32m      <a href='vscode-notebook-cell:/Users/H/2022-topic-01-team-02/Hellen.ipynb#ch0000009?line=8'>9</a>\u001b[0m     \u001b[39melse\u001b[39;00m:\n",
      "\u001b[1;32m/Users/H/2022-topic-01-team-02/Hellen.ipynb Cell 8'\u001b[0m in \u001b[0;36mdigit_recognition\u001b[0;34m(sample)\u001b[0m\n\u001b[1;32m      <a href='vscode-notebook-cell:/Users/H/2022-topic-01-team-02/Hellen.ipynb#ch0000007?line=7'>8</a>\u001b[0m \u001b[39m#subtract avg array from sample array and store as difference array (diff_arr)\u001b[39;00m\n\u001b[1;32m      <a href='vscode-notebook-cell:/Users/H/2022-topic-01-team-02/Hellen.ipynb#ch0000007?line=8'>9</a>\u001b[0m \u001b[39mfor\u001b[39;00m i \u001b[39min\u001b[39;00m \u001b[39mrange\u001b[39m(\u001b[39m0\u001b[39m,\u001b[39m10\u001b[39m):\n\u001b[0;32m---> <a href='vscode-notebook-cell:/Users/H/2022-topic-01-team-02/Hellen.ipynb#ch0000007?line=9'>10</a>\u001b[0m     diff_arr \u001b[39m=\u001b[39m sample_img \u001b[39m-\u001b[39m avg_digit_arr(train_array, i)\n\u001b[1;32m     <a href='vscode-notebook-cell:/Users/H/2022-topic-01-team-02/Hellen.ipynb#ch0000007?line=11'>12</a>\u001b[0m     \u001b[39m#turn difference array to difference list\u001b[39;00m\n\u001b[1;32m     <a href='vscode-notebook-cell:/Users/H/2022-topic-01-team-02/Hellen.ipynb#ch0000007?line=12'>13</a>\u001b[0m     diff_list \u001b[39m=\u001b[39m []\n",
      "\u001b[1;32m/Users/H/2022-topic-01-team-02/Hellen.ipynb Cell 6'\u001b[0m in \u001b[0;36mavg_digit_arr\u001b[0;34m(dat, digit)\u001b[0m\n\u001b[1;32m     <a href='vscode-notebook-cell:/Users/H/2022-topic-01-team-02/Hellen.ipynb#ch0000005?line=13'>14</a>\u001b[0m \u001b[39m#sum up intensities from all selected images for every pixel\u001b[39;00m\n\u001b[1;32m     <a href='vscode-notebook-cell:/Users/H/2022-topic-01-team-02/Hellen.ipynb#ch0000005?line=14'>15</a>\u001b[0m \u001b[39mfor\u001b[39;00m j \u001b[39min\u001b[39;00m \u001b[39mrange\u001b[39m(\u001b[39m0\u001b[39m, \u001b[39mlen\u001b[39m(list_digit)):\n\u001b[0;32m---> <a href='vscode-notebook-cell:/Users/H/2022-topic-01-team-02/Hellen.ipynb#ch0000005?line=15'>16</a>\u001b[0m     avg \u001b[39m+\u001b[39m\u001b[39m=\u001b[39m dat[list_digit[j], \u001b[39m1\u001b[39m:]\n\u001b[1;32m     <a href='vscode-notebook-cell:/Users/H/2022-topic-01-team-02/Hellen.ipynb#ch0000005?line=17'>18</a>\u001b[0m \u001b[39m#divide by number of selected pictures for average intensity value\u001b[39;00m\n\u001b[1;32m     <a href='vscode-notebook-cell:/Users/H/2022-topic-01-team-02/Hellen.ipynb#ch0000005?line=18'>19</a>\u001b[0m avg \u001b[39m/\u001b[39m\u001b[39m=\u001b[39m \u001b[39mlen\u001b[39m(list_digit)\n",
      "\u001b[0;31mKeyboardInterrupt\u001b[0m: "
     ]
    }
   ],
   "source": [
    "#Überprüfung:\n",
    "\n",
    "true = 0\n",
    "false = 0\n",
    "\n",
    "for i in range(0, test_array.shape[0]):\n",
    "    if digit_recognition(i+1) == test_array[i, 0]:\n",
    "        true += 1\n",
    "    else:\n",
    "        false += 1\n"
   ]
  },
  {
   "cell_type": "code",
   "execution_count": 18,
   "metadata": {},
   "outputs": [
    {
     "name": "stdout",
     "output_type": "stream",
     "text": [
      "Anzahl richtig erkannter Digits: 6684 \n",
      "Anzahl falsch erkannter Digits: 3315 \n",
      "Richtig: 66.84668466846685 Prozent\n"
     ]
    }
   ],
   "source": [
    "#Überprüfung:\n",
    "avg_list = []\n",
    "for i in range(0,10):\n",
    "    avg_list.append(avg_digit_arr(train_array, i))\n",
    "\n",
    "def digit_recognition_fast(sample):\n",
    "    #die geht schneller weil nicht immer die durchschnitsarrays neu berechnet werden\n",
    "    intensities_list = [] \n",
    "    sample_img = test_array[sample-1, 1:] \n",
    "\n",
    "    for i in range(0,10):\n",
    "        diff_arr = sample_img - avg_list[i]\n",
    "        \n",
    "        diff_list = []\n",
    "        for j in range(0, 784):\n",
    "            diff_list.append(diff_arr[0, j])\n",
    "\n",
    "        intensity_sum = 0\n",
    "        for k in range(0, len(diff_list)):\n",
    "            diff_list[k] = diff_list[k]**2\n",
    "            diff_list[k] = np.sqrt(diff_list[k])\n",
    "            intensity_sum += diff_list[k]\n",
    "\n",
    "        intensities_list.append(intensity_sum)\n",
    "\n",
    "    return intensities_list.index(min(intensities_list))\n",
    "\n",
    "\n",
    "true = 0\n",
    "false = 0\n",
    "\n",
    "for i in range(0, test_array.shape[0]):\n",
    "    if digit_recognition_fast(i+1) == test_array[i, 0]:\n",
    "        true += 1\n",
    "    else:\n",
    "        false += 1\n",
    "\n",
    "print(f'Anzahl richtig erkannter Digits: {true} \\n\\\n",
    "Anzahl falsch erkannter Digits: {false} \\n\\\n",
    "Richtig: {true/test_array.shape[0]*100} Prozent')\n",
    "#66,85 Prozent"
   ]
  },
  {
   "cell_type": "code",
   "execution_count": 9,
   "metadata": {},
   "outputs": [],
   "source": [
    "zero = 0\n",
    "one = 0\n",
    "two = 0\n",
    "three = 0\n",
    "four = 0\n",
    "five = 0\n",
    "six = 0\n",
    "seven = 0\n",
    "eight = 0\n",
    "nine = 0\n",
    "for i in range (0, train_array.shape[0]):\n",
    "    if train_array[i, 0]==0:\n",
    "        zero += 1\n",
    "    elif train_array[i, 0]==1:\n",
    "        one += 1\n",
    "    elif train_array[i, 0]==2:\n",
    "        two += 1\n",
    "    elif train_array[i, 0]==3:\n",
    "        three += 1\n",
    "    elif train_array[i, 0]==4:\n",
    "        four += 1\n",
    "    elif train_array[i, 0]==5:\n",
    "        five += 1\n",
    "    elif train_array[i, 0]==6:\n",
    "        six += 1\n",
    "    elif train_array[i, 0]==7:\n",
    "        seven += 1\n",
    "    elif train_array[i, 0]==8:\n",
    "        eight += 1\n",
    "    elif train_array[i, 0]==9:\n",
    "        nine += 1\n",
    "list_dig = [one, two, three, four, five, six, seven, eight, nine]\n"
   ]
  },
  {
   "cell_type": "code",
   "execution_count": 8,
   "metadata": {},
   "outputs": [
    {
     "name": "stdout",
     "output_type": "stream",
     "text": [
      "5923 6742 5958 6131 5842 5420 5918 6265 5851 5949\n",
      "(59999, 785)\n"
     ]
    }
   ],
   "source": [
    "print(zero, one, two, three, four, five, six, seven, eight, nine)\n",
    "print(train_digits.shape)"
   ]
  },
  {
   "cell_type": "code",
   "execution_count": 37,
   "metadata": {},
   "outputs": [
    {
     "data": {
      "text/plain": [
       "Text(0.5, 1.0, 'training dataset')"
      ]
     },
     "execution_count": 37,
     "metadata": {},
     "output_type": "execute_result"
    },
    {
     "data": {
      "image/png": "[encoded data removed]",
      "text/plain": [
       "<Figure size 432x288 with 1 Axes>"
      ]
     },
     "metadata": {
      "needs_background": "light"
     },
     "output_type": "display_data"
    }
   ],
   "source": [
    "\n",
    "plt.hist(train_array[:,0], rwidth = 0.9)\n",
    "plt.xlabel('digits')\n",
    "plt.ylabel('counts')\n",
    "plt.title('training dataset')\n"
   ]
  },
  {
   "cell_type": "code",
   "execution_count": 72,
   "metadata": {},
   "outputs": [
    {
     "name": "stdout",
     "output_type": "stream",
     "text": [
      "[17, 29, 31, 43, 50, 62, 67, 75, 86, 89, 92]\n"
     ]
    }
   ],
   "source": [
    "#rausfinden, wo überall dreien sind\n",
    "i = 0\n",
    "dreien = []\n",
    "while i <6:\n",
    "    for j in range(0,100):\n",
    "        if test_array[j, 0]== 3:\n",
    "            dreien.append(j)\n",
    "            i += 1\n",
    "\n",
    "print(dreien)\n"
   ]
  },
  {
   "cell_type": "code",
   "execution_count": 18,
   "metadata": {},
   "outputs": [],
   "source": [
    "def digit_rec_comp(sample):\n",
    "    print(f'Prediction: {digit_recognition(sample)}\\n\\\n",
    "Real digit: {return_label(sample)}')\n",
    "    show_digit(sample)"
   ]
  },
  {
   "cell_type": "code",
   "execution_count": null,
   "metadata": {},
   "outputs": [],
   "source": []
  },
  {
   "cell_type": "code",
   "execution_count": 22,
   "metadata": {},
   "outputs": [
    {
     "name": "stdout",
     "output_type": "stream",
     "text": [
      "Prediction: 1\n",
      "Real digit: 1\n"
     ]
    },
    {
     "data": {
      "image/png": "[encoded data removed]",
      "text/plain": [
       "<Figure size 432x288 with 1 Axes>"
      ]
     },
     "metadata": {
      "needs_background": "light"
     },
     "output_type": "display_data"
    }
   ],
   "source": [
    "#try out digit_recognition function\n",
    "digit_rec_comp(2)\n"
   ]
  }
 ],
 "metadata": {
  "interpreter": {
   "hash": "541128196ab36f0af3e9e280f838c1b088f9a4d7f344cac0adf931df1b356af5"
  },
  "kernelspec": {
   "display_name": "Python 3.9.12 ('digit_recognitoin_env')",
   "language": "python",
   "name": "python3"
  },
  "language_info": {
   "codemirror_mode": {
    "name": "ipython",
    "version": 3
   },
   "file_extension": ".py",
   "mimetype": "text/x-python",
   "name": "python",
   "nbconvert_exporter": "python",
   "pygments_lexer": "ipython3",
   "version": "3.9.12"
  },
  "orig_nbformat": 4
 },
 "nbformat": 4,
 "nbformat_minor": 2
}
