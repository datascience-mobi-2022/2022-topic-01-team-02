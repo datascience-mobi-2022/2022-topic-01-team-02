{
 "cells": [
  {
   "cell_type": "code",
   "execution_count": 28,
   "metadata": {},
   "outputs": [
    {
     "data": {
      "text/plain": [
       "(9999, 785)"
      ]
     },
     "execution_count": 28,
     "metadata": {},
     "output_type": "execute_result"
    }
   ],
   "source": [
    "import matplotlib.pyplot as plt\n",
    "import pandas as pd\n",
    "import numpy as np\n",
    "train_digits = pd.read_csv(\"data/mnist_train.csv\")\n",
    "test_digits = pd.read_csv(\"data/mnist_test.csv\")\n",
    "test_digits.shape"
   ]
  },
  {
   "cell_type": "code",
   "execution_count": null,
   "metadata": {},
   "outputs": [],
   "source": [
    "#convert pandas Data Frame to Numpy Array\n",
    "train_array = train_digits.to_numpy()\n",
    "test_array = test_digits.to_numpy()\n",
    "# Datensatz hat 59999 Zeilen\n",
    "train_array.shape\n"
   ]
  },
  {
   "cell_type": "code",
   "execution_count": null,
   "metadata": {},
   "outputs": [],
   "source": [
    "#show image \n",
    "def show_digit(sample):\n",
    "    img = test_array[sample-1, 1:]\n",
    "    img.shape = (28,28)\n",
    "    plt.imshow(img, 'gray')"
   ]
  },
  {
   "cell_type": "code",
   "execution_count": 29,
   "metadata": {},
   "outputs": [],
   "source": [
    "#compute average intensities of all rows describing the same number\n",
    "#imshow as output\n",
    "def avg_digit_img(dat, digit):\n",
    "\n",
    "    #create list with rowindex for given digit\n",
    "    list_digit = []\n",
    "    for i in range(0, dat.shape[0]):\n",
    "        if dat[i, 0] == digit:\n",
    "            list_digit.append(i)\n",
    "\n",
    "    #create np array filled with zeros in shape flat image\n",
    "    avg = np.zeros((1,784))\n",
    "    \n",
    "    #sum up intensities from all selected images for every pixel\n",
    "    for j in range(0, len(list_digit)):\n",
    "        avg += dat[list_digit[j], 1:]\n",
    "    #shape image\n",
    "    avg.shape = (28,28)\n",
    "    #divide by number of selected pictures for average intensity value\n",
    "    avg /= len(list_digit)\n",
    "\n",
    "    #show image and colorbar\n",
    "    plt.imshow(avg, 'gray')\n",
    "    plt.colorbar()\n"
   ]
  },
  {
   "cell_type": "code",
   "execution_count": null,
   "metadata": {},
   "outputs": [],
   "source": [
    "#use function avg_digit_img to look at average image of digit 2\n",
    "avg_digit_img(train_array, 3)"
   ]
  },
  {
   "cell_type": "code",
   "execution_count": 30,
   "metadata": {},
   "outputs": [],
   "source": [
    "#computes average intensities of all rows describing the same number\n",
    "#returns numpy array\n",
    "def avg_digit_arr(dat, digit):\n",
    "\n",
    "    #create list with rowindex for given digit\n",
    "    list_digit = []\n",
    "    for i in range(0, dat.shape[0]):\n",
    "        if dat[i, 0] == digit:\n",
    "            list_digit.append(i)\n",
    "\n",
    "    #create np array filled with zeros in shape flat image\n",
    "    avg = np.zeros((1,784))\n",
    "\n",
    "    #sum up intensities from all selected images for every pixel\n",
    "    for j in range(0, len(list_digit)):\n",
    "        avg += dat[list_digit[j], 1:]\n",
    "\n",
    "    #divide by number of selected pictures for average intensity value\n",
    "    avg /= len(list_digit)\n",
    "\n",
    "    #return 1 dimensional array\n",
    "    return avg"
   ]
  },
  {
   "cell_type": "code",
   "execution_count": null,
   "metadata": {},
   "outputs": [],
   "source": [
    "#use function avg_digit_arr to look at array of average image of all ones\n",
    "avg_digit_arr(train_array, 1)"
   ]
  },
  {
   "cell_type": "code",
   "execution_count": 31,
   "metadata": {},
   "outputs": [],
   "source": [
    "#compare sample image with averaged images pixel by pixel\n",
    "#select digit with lowest difference in intensity (output)\n",
    "def digit_recognition(sample):\n",
    "\n",
    "    intensities_list = [] #will be filled with average intensity differences for each digit \n",
    "    sample_img = test_array[sample-1, 1:] #create array with intensity values of sample\n",
    "\n",
    "    #subtract avg array from sample array and store as difference array (diff_arr)\n",
    "    for i in range(0,10):\n",
    "        diff_arr = sample_img - avg_digit_arr(train_array, i)\n",
    "        \n",
    "        #turn difference array to difference list\n",
    "        diff_list = []\n",
    "        for j in range(0, 784):\n",
    "            diff_list.append(diff_arr[0, j])\n",
    "\n",
    "        #sum all absolute values of difference list and assign to variable intensity_sum\n",
    "        intensity_sum = 0\n",
    "        for k in range(0, len(diff_list)):\n",
    "            diff_list[k] = diff_list[k]**2\n",
    "            diff_list[k] = np.sqrt(diff_list[k])\n",
    "            intensity_sum += diff_list[k]\n",
    "\n",
    "        #append intensities_list by intensity sum\n",
    "        #at the end of for loop, intensites_list contains 1 value for each of the 10 digits\n",
    "        intensities_list.append(intensity_sum)\n",
    "\n",
    "    #select smallest value and return as output\n",
    "    return intensities_list.index(min(intensities_list))"
   ]
  },
  {
   "cell_type": "code",
   "execution_count": null,
   "metadata": {},
   "outputs": [],
   "source": [
    "#try out digit_recognition function\n",
    "print(f'Prediction: {digit_recognition(10)}\\n\\\n",
    "Real digit: {return_label(10)}')\n"
   ]
  },
  {
   "cell_type": "code",
   "execution_count": null,
   "metadata": {},
   "outputs": [],
   "source": [
    "#Überprüfung:\n",
    "\n",
    "true = 0\n",
    "false = 0\n",
    "\n",
    "for i in range(0, test_array.shape[0]):\n",
    "    if digit_recognition(i+1) == test_array[i, 0]:\n",
    "        true += 1\n",
    "    else:\n",
    "        false += 1\n"
   ]
  },
  {
   "cell_type": "code",
   "execution_count": null,
   "metadata": {},
   "outputs": [],
   "source": [
    "#Überprüfung:\n",
    "avg_list = []\n",
    "for i in range(0,10):\n",
    "    avg_list.append(avg_digit_arr(train_array, i))\n",
    "\n",
    "def digit_recognition_fast(sample):\n",
    "    #die geht schneller weil nicht immer die durchschnitsarrays neu berechnet werden\n",
    "    intensities_list = [] \n",
    "    sample_img = test_array[sample-1, 1:] \n",
    "\n",
    "    for i in range(0,10):\n",
    "        diff_arr = sample_img - avg_list[i]\n",
    "        \n",
    "        diff_list = []\n",
    "        for j in range(0, 784):\n",
    "            diff_list.append(diff_arr[0, j])\n",
    "\n",
    "        intensity_sum = 0\n",
    "        for k in range(0, len(diff_list)):\n",
    "            diff_list[k] = diff_list[k]**2\n",
    "            diff_list[k] = np.sqrt(diff_list[k])\n",
    "            intensity_sum += diff_list[k]\n",
    "\n",
    "        intensities_list.append(intensity_sum)\n",
    "\n",
    "    return intensities_list.index(min(intensities_list))\n",
    "\n",
    "\n",
    "true = 0\n",
    "false = 0\n",
    "\n",
    "for i in range(0, test_array.shape[0]):\n",
    "    if digit_recognition_fast(i+1) == test_array[i, 0]:\n",
    "        true += 1\n",
    "    else:\n",
    "        false += 1\n",
    "\n",
    "print(f'Anzahl richtig erkannter Digits: {true} \\n\\\n",
    "Anzahl falsch erkannter Digits: {false} \\n\\\n",
    "Richtig: {true/test_array.shape[0]*100} Prozent')\n",
    "#66,85 Prozent"
   ]
  },
  {
   "cell_type": "code",
   "execution_count": null,
   "metadata": {},
   "outputs": [],
   "source": [
    "zero = 0\n",
    "one = 0\n",
    "two = 0\n",
    "three = 0\n",
    "four = 0\n",
    "five = 0\n",
    "six = 0\n",
    "seven = 0\n",
    "eight = 0\n",
    "nine = 0\n",
    "for i in range (0, train_array.shape[0]):\n",
    "    if train_array[i, 0]==0:\n",
    "        zero += 1\n",
    "    elif train_array[i, 0]==1:\n",
    "        one += 1\n",
    "    elif train_array[i, 0]==2:\n",
    "        two += 1\n",
    "    elif train_array[i, 0]==3:\n",
    "        three += 1\n",
    "    elif train_array[i, 0]==4:\n",
    "        four += 1\n",
    "    elif train_array[i, 0]==5:\n",
    "        five += 1\n",
    "    elif train_array[i, 0]==6:\n",
    "        six += 1\n",
    "    elif train_array[i, 0]==7:\n",
    "        seven += 1\n",
    "    elif train_array[i, 0]==8:\n",
    "        eight += 1\n",
    "    elif train_array[i, 0]==9:\n",
    "        nine += 1\n",
    "list_dig = [one, two, three, four, five, six, seven, eight, nine]\n"
   ]
  },
  {
   "cell_type": "code",
   "execution_count": null,
   "metadata": {},
   "outputs": [],
   "source": [
    "print(zero, one, two, three, four, five, six, seven, eight, nine)\n",
    "print(train_digits.shape)"
   ]
  },
  {
   "cell_type": "code",
   "execution_count": null,
   "metadata": {},
   "outputs": [],
   "source": [
    "\n",
    "plt.hist(train_array[:,0], rwidth = 0.9)\n",
    "plt.xlabel('digits')\n",
    "plt.ylabel('counts')\n",
    "plt.title('training dataset')\n"
   ]
  },
  {
   "cell_type": "code",
   "execution_count": null,
   "metadata": {},
   "outputs": [],
   "source": [
    "#rausfinden, wo überall dreien sind\n",
    "i = 0\n",
    "dreien = []\n",
    "while i <6:\n",
    "    for j in range(0,100):\n",
    "        if test_array[j, 0]== 3:\n",
    "            dreien.append(j)\n",
    "            i += 1\n",
    "\n",
    "print(dreien)\n"
   ]
  },
  {
   "cell_type": "code",
   "execution_count": 32,
   "metadata": {},
   "outputs": [],
   "source": [
    "def digit_rec_comp(sample):\n",
    "    print(f'Prediction: {digit_recognition(sample)}\\n\\\n",
    "Real digit: {return_label(sample)}')\n",
    "    show_digit(sample)"
   ]
  },
  {
   "cell_type": "code",
   "execution_count": null,
   "metadata": {},
   "outputs": [],
   "source": []
  },
  {
   "cell_type": "code",
   "execution_count": null,
   "metadata": {},
   "outputs": [],
   "source": [
    "#try out digit_recognition function\n",
    "digit_rec_comp()\n"
   ]
  }
 ],
 "metadata": {
  "interpreter": {
   "hash": "541128196ab36f0af3e9e280f838c1b088f9a4d7f344cac0adf931df1b356af5"
  },
  "kernelspec": {
   "display_name": "Python 3.9.12 ('digit_recognitoin_env')",
   "language": "python",
   "name": "python3"
  },
  "language_info": {
   "codemirror_mode": {
    "name": "ipython",
    "version": 3
   },
   "file_extension": ".py",
   "mimetype": "text/x-python",
   "name": "python",
   "nbconvert_exporter": "python",
   "pygments_lexer": "ipython3",
   "version": "3.9.12"
  },
  "orig_nbformat": 4
 },
 "nbformat": 4,
 "nbformat_minor": 2
}
